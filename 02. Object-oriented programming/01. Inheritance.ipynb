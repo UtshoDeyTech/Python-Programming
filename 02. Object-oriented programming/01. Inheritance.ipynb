{
 "cells": [
  {
   "cell_type": "markdown",
   "metadata": {},
   "source": [
    "## When to Use Inheritance:\n",
    "\n",
    "Inheritance is used when you want to create a new class that is a modified or specialized version of an existing class. It helps in code reuse and promotes a hierarchical structure. In the above examples, Car is a specific type of Vehicle, and Circle and Rectangle are specific types of Shape. Inheritance allows you to model relationships between different entities in your program and share common attributes and behaviors."
   ]
  },
  {
   "cell_type": "code",
   "execution_count": null,
   "metadata": {
    "vscode": {
     "languageId": "plaintext"
    }
   },
   "outputs": [],
   "source": [
    "# Basic Inheritance Example\n",
    "\n",
    "class Vehicle:\n",
    "    def __init__(self, brand, model):\n",
    "        self.brand = brand\n",
    "        self.model = model\n",
    "\n",
    "    def display_info(self):\n",
    "        print(f\"{self.brand} {self.model}\")\n",
    "\n",
    "class Car(Vehicle):\n",
    "    def __init__(self, brand, model, num_doors):\n",
    "        super().__init__(brand, model)\n",
    "        self.num_doors = num_doors\n",
    "\n",
    "    def display_info(self):\n",
    "        super().display_info()\n",
    "        print(f\"Number of doors: {self.num_doors}\")"
   ]
  },
  {
   "cell_type": "code",
   "execution_count": null,
   "metadata": {
    "vscode": {
     "languageId": "plaintext"
    }
   },
   "outputs": [],
   "source": [
    "# Example Usage:\n",
    "\n",
    "# Creating instances\n",
    "generic_vehicle = Vehicle(\"Generic\", \"Model\")\n",
    "my_car = Car(\"Toyota\", \"Camry\", 4)\n",
    "\n",
    "# Using inherited methods\n",
    "generic_vehicle.display_info()  # Output: Generic Model\n",
    "my_car.display_info()  # Output: Toyota Camry\\nNumber of doors: 4"
   ]
  },
  {
   "cell_type": "markdown",
   "metadata": {},
   "source": [
    "In this example, Car is a subclass of Vehicle. It inherits the attributes (brand, model) and methods (display_info) from the parent class (Vehicle). The super() function is used to call the method from the parent class."
   ]
  },
  {
   "cell_type": "code",
   "execution_count": null,
   "metadata": {
    "vscode": {
     "languageId": "plaintext"
    }
   },
   "outputs": [],
   "source": [
    "# Advanced Inheritance Example\n",
    "\n",
    "class Shape:\n",
    "    def __init__(self, color):\n",
    "        self.color = color\n",
    "\n",
    "    def area(self):\n",
    "        pass\n",
    "\n",
    "class Circle(Shape):\n",
    "    def __init__(self, color, radius):\n",
    "        super().__init__(color)\n",
    "        self.radius = radius\n",
    "\n",
    "    def area(self):\n",
    "        return 3.14 * self.radius * self.radius\n",
    "\n",
    "class Rectangle(Shape):\n",
    "    def __init__(self, color, length, width):\n",
    "        super().__init__(color)\n",
    "        self.length = length\n",
    "        self.width = width\n",
    "\n",
    "    def area(self):\n",
    "        return self.length * self.width"
   ]
  },
  {
   "cell_type": "code",
   "execution_count": null,
   "metadata": {
    "vscode": {
     "languageId": "plaintext"
    }
   },
   "outputs": [],
   "source": [
    "# Example Usage:\n",
    "\n",
    "# Creating instances\n",
    "red_circle = Circle(\"Red\", 5)\n",
    "blue_rectangle = Rectangle(\"Blue\", 4, 6)\n",
    "\n",
    "# Using inherited methods\n",
    "print(red_circle.area())  # Output: 78.5\n",
    "print(blue_rectangle.area())  # Output: 24"
   ]
  },
  {
   "cell_type": "markdown",
   "metadata": {},
   "source": [
    "In this example, the Shape class is an abstract class with an abstract method area. The Circle and Rectangle classes inherit from Shape and provide their own implementations of the area method."
   ]
  }
 ],
 "metadata": {
  "language_info": {
   "name": "python"
  }
 },
 "nbformat": 4,
 "nbformat_minor": 2
}
