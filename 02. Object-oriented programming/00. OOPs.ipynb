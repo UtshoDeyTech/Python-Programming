{
 "cells": [
  {
   "cell_type": "code",
   "execution_count": null,
   "metadata": {},
   "outputs": [],
   "source": [
    "class Animal:\n",
    "    def __init__(self, name, species, sound):\n",
    "        self.name = name\n",
    "        self.species = species\n",
    "        self.sound = sound\n",
    "\n",
    "    def make_sound(self):\n",
    "        print(f\"{self.name} says {self.sound}\")"
   ]
  },
  {
   "cell_type": "code",
   "execution_count": null,
   "metadata": {},
   "outputs": [],
   "source": [
    "class Zoo:\n",
    "    def __init__(self, name):\n",
    "        self.name = name\n",
    "        self.animals = []\n",
    "\n",
    "    def add_animal(self, animal):\n",
    "        if isinstance(animal, Animal):\n",
    "            self.animals.append(animal)\n",
    "            print(f\"{animal.name} has been added to {self.name}\")\n",
    "        else:\n",
    "            print(\"Invalid animal. Please add an instance of the Animal class.\")\n",
    "\n",
    "    def make_all_sounds(self):\n",
    "        print(f\"{self.name} is alive with the following sounds:\")\n",
    "        for animal in self.animals:\n",
    "            animal.make_sound()"
   ]
  },
  {
   "cell_type": "code",
   "execution_count": null,
   "metadata": {},
   "outputs": [],
   "source": [
    "# Creating animal instances\n",
    "lion = Animal(\"Leo\", \"Lion\", \"Roar\")\n",
    "elephant = Animal(\"Ellie\", \"Elephant\", \"Trumpet\")\n",
    "monkey = Animal(\"Milo\", \"Monkey\", \"Chatter\")"
   ]
  },
  {
   "cell_type": "code",
   "execution_count": null,
   "metadata": {},
   "outputs": [],
   "source": [
    "# Creating a zoo instance\n",
    "my_zoo = Zoo(\"City Zoo\")"
   ]
  },
  {
   "cell_type": "code",
   "execution_count": null,
   "metadata": {},
   "outputs": [],
   "source": [
    "# Adding animals to the zoo\n",
    "my_zoo.add_animal(lion)\n",
    "my_zoo.add_animal(elephant)\n",
    "my_zoo.add_animal(monkey)"
   ]
  },
  {
   "cell_type": "code",
   "execution_count": null,
   "metadata": {},
   "outputs": [],
   "source": [
    "# Making all animals in the zoo make sounds\n",
    "my_zoo.make_all_sounds()"
   ]
  },
  {
   "cell_type": "markdown",
   "metadata": {},
   "source": [
    "In this example, I have two classes: Animal and Zoo. The Animal class represents individual animals with properties like name, species, and the sound they make. The make_sound method allows an animal to produce its characteristic sound.\n",
    "\n",
    "The Zoo class represents a collection of animals, and it has methods like add_animal to add animals to the zoo and make_all_sounds to make all animals in the zoo produce their sounds."
   ]
  },
  {
   "cell_type": "markdown",
   "metadata": {},
   "source": []
  }
 ],
 "metadata": {
  "language_info": {
   "name": "python"
  }
 },
 "nbformat": 4,
 "nbformat_minor": 2
}
