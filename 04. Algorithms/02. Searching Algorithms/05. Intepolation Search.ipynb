{
 "cells": [
  {
   "attachments": {
    "cea6fb22-62e0-4e83-9cc8-ed83a6b51737.png": {
     "image/png": "[encoded data removed]"
    },
    "d6e74ade-b01d-426a-8ff1-442d0a34fd4b.png": {
     "image/png": "[encoded data removed]"
    }
   },
   "cell_type": "markdown",
   "id": "2d6706ea-d1f8-4d46-989b-515746817c4a",
   "metadata": {},
   "source": [
    "## Interpolation Search\n",
    "\n",
    "**Given a sorted array of n uniformly distributed values `arr[]`, write a function to search for a particular element `x` in the array. \n",
    "Linear Search finds the element in `O(n)` time, Jump Search takes `O(√ n)` time and Binary Search takes `O(log n)` time. \n",
    "The Interpolation Search is an improvement over Binary Search for instances, where the values in a sorted array are uniformly distributed. Interpolation constructs new data points within the range of a discrete set of known data points. Binary Search always goes to the middle element to check. On the other hand, interpolation search may go to different locations according to the value of the key being searched. For example, if the value of the key is closer to the last element, interpolation search is likely to start search toward the end side.\n",
    "To find the position to be searched, it uses the following formula.**\n",
    "\n",
    "// The idea of formula is to return higher value of pos\n",
    "// when element to be searched is closer to `arr[hi]`. And\n",
    "// smaller value when closer to `arr[lo]`.\n",
    "\n",
    "![image.png](attachment:d6e74ade-b01d-426a-8ff1-442d0a34fd4b.png)![image.png](attachment:cea6fb22-62e0-4e83-9cc8-ed83a6b51737.png)\n",
    "\n",
    "arr[] ==> Array where elements need to be searche `dx`    \n",
    "      ==> Element to be searched `lo`    \n",
    "      ==> Starting index in `arr[]hi`  \n",
    "      ==> Ending index in `arr[]`\n",
    "      \n",
    "      \n",
    "\n",
    "**There are many different interpolation methods and one such is known as `linear interpolation`. Linear interpolation takes two data points which we assume as `(x1,y1)` and `(x2,y2)` and `the formula is :  at point(x,y)`.\n",
    "This algorithm works in a way we search for a word in a dictionary. The interpolation search algorithm improves the binary search algorithm.  The formula for finding a value is: `K = data-low/high-low`.\n",
    "`K` is a `constant` which is used to narrow the search space. In the case of binary search, the value for this constant is: `K=(low+high)/2`.**\n",
    "\n",
    "\n",
    "**The formula for pos can be derived as follows.\n",
    "Let's assume that the elements of the array are linearly distributed.**\n",
    "\n",
    "General equation of line : `y = m*x + c`.\n",
    "`y` is the value in the array and `x` is its index.\n",
    "\n",
    "Now putting value of `lo`,`hi` and `x` in the equation:\n",
    "\n",
    "`arr[hi] = m*hi+c ----(1)`\n",
    "\n",
    "`arr[lo] = m*lo+c ----(2)`\n",
    "\n",
    "`x = m*pos + c    ----(3)`\n",
    "\n",
    "`m = (arr[hi] - arr[lo] )/ (hi - lo)`\n",
    "\n",
    "subtracting eqxn (2) from (3)\n",
    "\n",
    "`x - arr[lo] = m * (pos - lo)`\n",
    "\n",
    "`lo + (x - arr[lo])/m = pos`\n",
    "\n",
    "`pos = lo + (x - arr[lo]) *(hi - lo)/(arr[hi] - arr[lo])`\n",
    "\n",
    "\n",
    "\n",
    "## Steps to perform Interpolation Search\n",
    "\n",
    "The rest of the Interpolation algorithm is the same except for the above partition logic. \n",
    "\n",
    "1. In a loop, calculate the value of “pos” using the probe position formula. \n",
    "2. If it is a match, return the index of the item, and exit. \n",
    "3. If the item is less than arr[pos], calculate the probe position of the left sub-array. Otherwise, calculate the same in the right sub-array. \n",
    "4. Repeat until a match is found or the sub-array reduces to zero.\n"
   ]
  },
  {
   "cell_type": "code",
   "execution_count": 1,
   "id": "7baaa9ec-6412-4c49-9846-b9967e6f3e73",
   "metadata": {},
   "outputs": [],
   "source": [
    "# Python3 program to implement\n",
    "# interpolation search\n",
    "# with recursion\n",
    "  \n",
    "# If x is present in arr[0..n-1], then\n",
    "# returns index of it, else returns -1.\n",
    "  \n",
    "  \n",
    "def interpolationSearch(arr, lo, hi, x):\n",
    "  \n",
    "    # Since array is sorted, an element present\n",
    "    # in array must be in range defined by corner\n",
    "    if (lo <= hi and x >= arr[lo] and x <= arr[hi]):\n",
    "  \n",
    "        # Probing the position with keeping\n",
    "        # uniform distribution in mind.\n",
    "        pos = lo + ((hi - lo) // (arr[hi] - arr[lo]) *\n",
    "                    (x - arr[lo]))\n",
    "  \n",
    "        # Condition of target found\n",
    "        if arr[pos] == x:\n",
    "            return pos\n",
    "  \n",
    "        # If x is larger, x is in right subarray\n",
    "        if arr[pos] < x:\n",
    "            return interpolationSearch(arr, pos + 1,\n",
    "                                       hi, x)\n",
    "  \n",
    "        # If x is smaller, x is in left subarray\n",
    "        if arr[pos] > x:\n",
    "            return interpolationSearch(arr, lo,\n",
    "                                       pos - 1, x)\n",
    "    return -1\n",
    "  "
   ]
  },
  {
   "cell_type": "code",
   "execution_count": 2,
   "id": "03d07af2-e92a-409e-99f1-b446c4a66c4e",
   "metadata": {},
   "outputs": [
    {
     "name": "stdout",
     "output_type": "stream",
     "text": [
      "Element found at index 4\n"
     ]
    }
   ],
   "source": [
    "# Driver code\n",
    "  \n",
    "  \n",
    "# Array of items in which\n",
    "# search will be conducted\n",
    "arr = [10, 12, 13, 16, 18, 19, 20,\n",
    "       21, 22, 23, 24, 33, 35, 42, 47]\n",
    "n = len(arr)\n",
    "  \n",
    "# Element to be searched\n",
    "x = 18\n",
    "index = interpolationSearch(arr, 0, n - 1, x)\n",
    "  \n",
    "if index != -1:\n",
    "    print(\"Element found at index\", index)\n",
    "else:\n",
    "    print(\"Element not found\")\n"
   ]
  },
  {
   "cell_type": "markdown",
   "id": "4dbda9ab-8d22-4c51-a956-765018a3e68f",
   "metadata": {},
   "source": [
    "* Time Complexity: `O(log2(log2 n))` for the average case, and `O(n)` for the worst case.\n",
    "* Auxiliary Space Complexity: `O(1)`"
   ]
  },
  {
   "cell_type": "code",
   "execution_count": null,
   "id": "043f88a6-9b90-4bdd-94f8-991219a04d2b",
   "metadata": {},
   "outputs": [],
   "source": []
  }
 ],
 "metadata": {
  "kernelspec": {
   "display_name": "py",
   "language": "python",
   "name": "py"
  },
  "language_info": {
   "codemirror_mode": {
    "name": "ipython",
    "version": 3
   },
   "file_extension": ".py",
   "mimetype": "text/x-python",
   "name": "python",
   "nbconvert_exporter": "python",
   "pygments_lexer": "ipython3",
   "version": "3.9.13"
  }
 },
 "nbformat": 4,
 "nbformat_minor": 5
}
