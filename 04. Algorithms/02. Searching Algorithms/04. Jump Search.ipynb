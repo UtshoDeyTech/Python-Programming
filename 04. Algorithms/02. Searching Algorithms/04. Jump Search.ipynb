{
 "cells": [
  {
   "cell_type": "markdown",
   "id": "2abab8b0-f131-4ff5-b4a0-9af24ca6996a",
   "metadata": {},
   "source": [
    "# Jump Search\n",
    "\n",
    "**Like Binary Search, Jump Search is a searching algorithm for sorted arrays. The basic idea is to check fewer elements (than linear search) by jumping ahead by fixed steps or skipping some elements in place of searching all elements.\n",
    "For example, suppose we have an array `arr[]` of size n and a block (to be jumped) of `size m`. Then we search in the indexes `arr[0]`, `arr[m]`, `arr[2m]`…..`arr[km]` and so on. Once we find the interval `(arr[km] < x < arr[(k+1)m])`, we perform a linear search operation from the index km to find the element `x`.**\n",
    "\n",
    "**Let’s consider the following array: `(0, 1, 1, 2, 3, 5, 8, 13, 21, 34, 55, 89, 144, 233, 377, 610)`. The length of the array is `16`. The Jump search will find the value of `55` with the following steps assuming that the block size to be jumped is `4`.**\n",
    "\n",
    "1. Jump from index 0 to index 4; \n",
    "2. Jump from index 4 to index 8; \n",
    "3. Jump from index 8 to index 12; \n",
    "4. Since the element at index 12 is greater than 55, we will jump back a step to come to index 8. \n",
    "5. Perform a linear search from index 8 to get the element 55.\n",
    "\n",
    "**The increasing order of performance is:**\n",
    "`linear search  <  jump search  <  binary search < Ternary search`"
   ]
  },
  {
   "cell_type": "code",
   "execution_count": 1,
   "id": "001cd60f-b535-40e0-8de1-154e19f45c33",
   "metadata": {},
   "outputs": [],
   "source": [
    "# Python3 code to implement Jump Search\n",
    "import math\n",
    "  \n",
    "def jumpSearch( arr , x , n ):\n",
    "      \n",
    "    # Finding block size to be jumped\n",
    "    step = math.sqrt(n)\n",
    "      \n",
    "    # Finding the block where element is\n",
    "    # present (if it is present)\n",
    "    prev = 0\n",
    "    while arr[int(min(step, n)-1)] < x:\n",
    "        prev = step\n",
    "        step += math.sqrt(n)\n",
    "        if prev >= n:\n",
    "            return -1\n",
    "      \n",
    "    # Doing a linear search for x in \n",
    "    # block beginning with prev.\n",
    "    while arr[int(prev)] < x:\n",
    "        prev += 1\n",
    "          \n",
    "        # If we reached next block or end \n",
    "        # of array, element is not present.\n",
    "        if prev == min(step, n):\n",
    "            return -1\n",
    "      \n",
    "    # If element is found\n",
    "    if arr[int(prev)] == x:\n",
    "        return prev\n",
    "      \n",
    "    return -1\n",
    "  "
   ]
  },
  {
   "cell_type": "code",
   "execution_count": 2,
   "id": "3849bffa-ae29-4d65-90bc-0e0e98de4d98",
   "metadata": {},
   "outputs": [
    {
     "name": "stdout",
     "output_type": "stream",
     "text": [
      "Number 55 is at index 10\n"
     ]
    }
   ],
   "source": [
    "# Driver code to test function\n",
    "arr = [ 0, 1, 1, 2, 3, 5, 8, 13, 21,\n",
    "    34, 55, 89, 144, 233, 377, 610 ]\n",
    "x = 55\n",
    "n = len(arr)\n",
    "  \n",
    "# Find the index of 'x' using Jump Search\n",
    "index = jumpSearch(arr, x, n)\n",
    "  \n",
    "# Print the index where 'x' is located\n",
    "print(\"Number\" , x, \"is at index\" ,\"%.0f\"%index)"
   ]
  },
  {
   "cell_type": "markdown",
   "id": "875d019c-bf5e-4241-b1f8-82562556c788",
   "metadata": {},
   "source": [
    "* Time Complexity : `O(√n)`\n",
    "* Auxiliary Space : `O(1)`"
   ]
  },
  {
   "cell_type": "markdown",
   "id": "ecd97dce-8fa3-4106-acee-1e5c9424cb68",
   "metadata": {
    "tags": []
   },
   "source": [
    "## Important points: \n",
    "\n",
    "* Works only with sorted arrays.\n",
    "* The optimal size of a block to be jumped is `(√ n)`. This makes the time complexity of Jump Search `O(√ n)`.\n",
    "* The time complexity of Jump Search is between Linear Search `((O(n))` and Binary Search `(O(Log n))`.\n",
    "* Binary Search is better than Jump Search, but Jump Search has the advantage that we traverse back only once (Binary Search may require up to `O(Log n)` jumps, consider a situation where the element to be searched is the smallest element or just bigger than the smallest). So, in a system where binary search is costly, we use Jump Search.\n"
   ]
  },
  {
   "cell_type": "code",
   "execution_count": null,
   "id": "c6e83147-6e7c-4e88-b374-88305de02c98",
   "metadata": {},
   "outputs": [],
   "source": []
  }
 ],
 "metadata": {
  "kernelspec": {
   "display_name": "py",
   "language": "python",
   "name": "py"
  },
  "language_info": {
   "codemirror_mode": {
    "name": "ipython",
    "version": 3
   },
   "file_extension": ".py",
   "mimetype": "text/x-python",
   "name": "python",
   "nbconvert_exporter": "python",
   "pygments_lexer": "ipython3",
   "version": "3.9.13"
  }
 },
 "nbformat": 4,
 "nbformat_minor": 5
}
