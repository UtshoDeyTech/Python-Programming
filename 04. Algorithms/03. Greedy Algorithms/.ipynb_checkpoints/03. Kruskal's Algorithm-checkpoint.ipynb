{
 "cells": [
  {
   "cell_type": "code",
   "execution_count": null,
   "id": "af80bddd-a192-4591-b0d9-f82ec4c00c44",
   "metadata": {},
   "outputs": [],
   "source": []
  }
 ],
 "metadata": {
  "kernelspec": {
   "display_name": "",
   "name": ""
  },
  "language_info": {
   "name": ""
  }
 },
 "nbformat": 4,
 "nbformat_minor": 5
}
