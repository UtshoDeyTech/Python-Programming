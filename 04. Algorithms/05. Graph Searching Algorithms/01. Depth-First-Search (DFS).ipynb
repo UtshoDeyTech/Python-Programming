{
 "cells": [
  {
   "cell_type": "code",
   "execution_count": 1,
   "id": "4e13059f-04f5-4061-b8a1-6f0b68a8dacd",
   "metadata": {
    "tags": []
   },
   "outputs": [],
   "source": [
    "def dfs(graph, start, item, visited=None):\n",
    "    if visited is None:\n",
    "        visited = set()\n",
    "    visited.add(start)\n",
    "    if start == item:\n",
    "        return True\n",
    "    for neighbor in graph[start]:\n",
    "        if neighbor not in visited:\n",
    "            if dfs(graph, neighbor, item, visited):\n",
    "                return True\n",
    "    return False\n"
   ]
  },
  {
   "attachments": {
    "9c3a63f9-15b3-4002-a5ce-ba1b957da0a2.png": {
     "image/png": "[encoded data removed]"
    }
   },
   "cell_type": "markdown",
   "id": "e3d66423-1247-4f6c-bbc9-f80618a14ef8",
   "metadata": {
    "tags": []
   },
   "source": [
    "This dfs function takes three arguments: the graph to search, the start node to begin the search from, and the item to search for. It returns True if the item is found in the graph, and False otherwise.\n",
    "\n",
    "The visited parameter is used to keep track of which nodes have already been visited. It defaults to None, and is initialized to an empty set if it is None.\n",
    "\n",
    "The function first adds the start node to the visited set. If the start node is equal to the item, it immediately returns True. Otherwise, it iterates over the neighbors of the start node, and recursively calls dfs on each neighbor that has not already been visited. If dfs returns True for any neighbor, the function immediately returns True, indicating that the item has been found. If none of the neighbors contain the item, the function returns False.\n",
    "\n",
    "![image.png](attachment:9c3a63f9-15b3-4002-a5ce-ba1b957da0a2.png)"
   ]
  },
  {
   "cell_type": "code",
   "execution_count": 2,
   "id": "0a48c18c-dac8-4a6b-943b-c772dec008ae",
   "metadata": {
    "tags": []
   },
   "outputs": [
    {
     "name": "stdout",
     "output_type": "stream",
     "text": [
      "F is found in the graph.\n"
     ]
    }
   ],
   "source": [
    "graph = {\n",
    "    'A': ['B', 'C'],\n",
    "    'B': ['A', 'D', 'E'],\n",
    "    'C': ['A', 'F'],\n",
    "    'D': ['B'],\n",
    "    'E': ['B', 'F'],\n",
    "    'F': ['C', 'E']\n",
    "}\n",
    "start_node = 'A'\n",
    "search_item = 'F'\n",
    "found = dfs(graph, start_node, search_item)\n",
    "if found:\n",
    "    print(f\"{search_item} is found in the graph.\")\n",
    "else:\n",
    "    print(f\"{search_item} is not found in the graph.\")\n"
   ]
  },
  {
   "cell_type": "markdown",
   "id": "2a243def-dec0-40ee-8c58-f01da8958d72",
   "metadata": {},
   "source": [
    "In this example, we define a graph as a dictionary where the keys are the nodes and the values are the neighboring nodes. We also define a starting node and an item to search for. We then call the dfs function with the graph, starting node, and search item, and store the result in a variable called found. Finally, we print a message indicating whether the item was found or not."
   ]
  },
  {
   "cell_type": "code",
   "execution_count": null,
   "id": "ea280f5c-ea7a-4bc8-927e-471e441df3f1",
   "metadata": {},
   "outputs": [],
   "source": []
  }
 ],
 "metadata": {
  "kernelspec": {
   "display_name": "py",
   "language": "python",
   "name": "py"
  },
  "language_info": {
   "codemirror_mode": {
    "name": "ipython",
    "version": 3
   },
   "file_extension": ".py",
   "mimetype": "text/x-python",
   "name": "python",
   "nbconvert_exporter": "python",
   "pygments_lexer": "ipython3",
   "version": "3.10.9"
  }
 },
 "nbformat": 4,
 "nbformat_minor": 5
}
