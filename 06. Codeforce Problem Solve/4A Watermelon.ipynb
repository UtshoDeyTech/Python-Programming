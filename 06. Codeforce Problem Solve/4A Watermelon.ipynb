{
 "cells": [
  {
   "cell_type": "code",
   "execution_count": 1,
   "id": "06898063-9d7c-45d6-b22d-7e1cbd2df2b6",
   "metadata": {
    "tags": []
   },
   "outputs": [
    {
     "name": "stdin",
     "output_type": "stream",
     "text": [
      " 50\n"
     ]
    },
    {
     "name": "stdout",
     "output_type": "stream",
     "text": [
      "YES\n"
     ]
    }
   ],
   "source": [
    "w = int(input())\n",
    "\n",
    "# If the weight of the watermelon is less than 4, it can't be divided into two even parts\n",
    "if w < 4:\n",
    "    print(\"NO\")\n",
    "else:\n",
    "    # Check if the weight of the watermelon can be divided into two even parts\n",
    "    if w % 2 == 0:\n",
    "        print(\"YES\")\n",
    "    else:\n",
    "        print(\"NO\")\n"
   ]
  },
  {
   "cell_type": "markdown",
   "id": "4e0329b8-7e42-4cc0-bbc3-32389121b4cb",
   "metadata": {},
   "source": [
    "**Explanation:**\n",
    "\n",
    "- First, we read the input which is the weight of the watermelon, and store it in the variable w.\n",
    "- Then, we check if the weight of the watermelon is less than 4, in which case it can't be divided into two even parts, and we print \"NO\".\n",
    "- If the weight is 4 or more, we check if it can be divided into two even parts by checking if the remainder of w divided by 2 is 0.\n",
    "- If it can be divided into two even parts, we print \"YES\", otherwise we print \"NO\"."
   ]
  },
  {
   "cell_type": "code",
   "execution_count": null,
   "id": "4289e5c6-02b3-4d4f-8cd9-541477060f19",
   "metadata": {},
   "outputs": [],
   "source": []
  }
 ],
 "metadata": {
  "kernelspec": {
   "display_name": "py",
   "language": "python",
   "name": "py"
  },
  "language_info": {
   "codemirror_mode": {
    "name": "ipython",
    "version": 3
   },
   "file_extension": ".py",
   "mimetype": "text/x-python",
   "name": "python",
   "nbconvert_exporter": "python",
   "pygments_lexer": "ipython3",
   "version": "3.10.9"
  }
 },
 "nbformat": 4,
 "nbformat_minor": 5
}
