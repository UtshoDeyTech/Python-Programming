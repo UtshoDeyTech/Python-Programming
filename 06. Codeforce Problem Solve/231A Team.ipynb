{
 "cells": [
  {
   "cell_type": "code",
   "execution_count": 1,
   "id": "dbcb5e4d-004c-4aed-85e2-78b25c930a28",
   "metadata": {
    "tags": []
   },
   "outputs": [
    {
     "name": "stdin",
     "output_type": "stream",
     "text": [
      " 2\n",
      " 100\n",
      " 011\n"
     ]
    },
    {
     "name": "stdout",
     "output_type": "stream",
     "text": [
      "2\n"
     ]
    }
   ],
   "source": [
    "n = int(input())\n",
    "problems = []\n",
    "\n",
    "# Read input and store in a list of tuples\n",
    "for i in range(n):\n",
    "    views = tuple(map(int, input().split()))\n",
    "    problems.append(views)\n",
    "\n",
    "# Count the number of problems that at least 2 friends are sure about\n",
    "count = 0\n",
    "for p in problems:\n",
    "    if sum(p) >= 2:\n",
    "        count += 1\n",
    "\n",
    "print(count)\n"
   ]
  },
  {
   "cell_type": "markdown",
   "id": "70e600e5-11f6-430d-8c1e-75f621918553",
   "metadata": {},
   "source": [
    "**Explanation:**\n",
    "\n",
    "- First, we read the integer n from the input, which tells us the number of problems in the contest.\n",
    "- Then we create an empty list problems to store the views of each friend on each problem.\n",
    "- We read each line of input, split it into three integers using map, and store them as a tuple in the problems list.\n",
    "- Finally, we iterate over the problems list and check if the sum of views for each problem is at least 2. If it is, we increment the count variable. Finally, we print out the count variable, which tells us how many problems the friends will implement."
   ]
  },
  {
   "cell_type": "code",
   "execution_count": null,
   "id": "be46c5da-abbd-466a-8f87-9405d07da769",
   "metadata": {},
   "outputs": [],
   "source": []
  }
 ],
 "metadata": {
  "kernelspec": {
   "display_name": "py",
   "language": "python",
   "name": "py"
  },
  "language_info": {
   "codemirror_mode": {
    "name": "ipython",
    "version": 3
   },
   "file_extension": ".py",
   "mimetype": "text/x-python",
   "name": "python",
   "nbconvert_exporter": "python",
   "pygments_lexer": "ipython3",
   "version": "3.10.9"
  }
 },
 "nbformat": 4,
 "nbformat_minor": 5
}
