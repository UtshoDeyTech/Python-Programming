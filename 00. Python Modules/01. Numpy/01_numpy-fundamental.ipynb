{
 "cells": [
  {
   "cell_type": "markdown",
   "id": "47644c1e",
   "metadata": {},
   "source": [
    "### What is numpy?\n",
    "\n",
    "NumPy is the fundamental package for scientific computing in Python. It is a Python library that provides a multidimensional array object, various derived objects (such as masked arrays and matrices), and an assortment of routines for fast operations on arrays, including mathematical, logical, shape manipulation, sorting, selecting, I/O, discrete Fourier transforms, basic linear algebra, basic statistical operations, random simulation and much more.\n",
    "\n",
    "\n",
    "At the core of the NumPy package, is the ndarray object. This encapsulates n-dimensional arrays of homogeneous data types"
   ]
  },
  {
   "cell_type": "markdown",
   "id": "8f74b4fd",
   "metadata": {},
   "source": [
    "### Numpy Arrays Vs Python Sequences\n",
    "\n",
    "- NumPy arrays have a fixed size at creation, unlike Python lists (which can grow dynamically). Changing the size of an ndarray will create a new array and delete the original.\n",
    "\n",
    "- The elements in a NumPy array are all required to be of the same data type, and thus will be the same size in memory.\n",
    "\n",
    "- NumPy arrays facilitate advanced mathematical and other types of operations on large numbers of data. Typically, such operations are executed more efficiently and with less code than is possible using Python’s built-in sequences.\n",
    "\n",
    "- A growing plethora of scientific and mathematical Python-based packages are using NumPy arrays; though these typically support Python-sequence input, they convert such input to NumPy arrays prior to processing, and they often output NumPy arrays."
   ]
  },
  {
   "cell_type": "markdown",
   "id": "160865d9-2d3c-4b0c-af0a-d09327875f52",
   "metadata": {},
   "source": [
    "# Import NumPy"
   ]
  },
  {
   "cell_type": "code",
   "execution_count": 28,
   "id": "0f34c2d0-b05e-4d71-9e7a-95f0fe19dd10",
   "metadata": {},
   "outputs": [],
   "source": [
    "import numpy\n",
    "# import numpy as np"
   ]
  },
  {
   "cell_type": "markdown",
   "id": "075a04d4-7c95-4d1f-9282-22a2e3812b60",
   "metadata": {},
   "source": [
    "### 1. Examples"
   ]
  },
  {
   "cell_type": "code",
   "execution_count": 29,
   "id": "d94771e3-6471-41a5-a9d8-bc83f38a6c33",
   "metadata": {},
   "outputs": [
    {
     "name": "stdout",
     "output_type": "stream",
     "text": [
      "[1 2 3 4 5]\n"
     ]
    }
   ],
   "source": [
    "arr = numpy.array([1, 2, 3, 4, 5])\n",
    "\n",
    "print(arr)"
   ]
  },
  {
   "cell_type": "code",
   "execution_count": 30,
   "id": "2fa123e7-75cc-4f30-8e2e-b16bc4bc5ef1",
   "metadata": {},
   "outputs": [
    {
     "name": "stdout",
     "output_type": "stream",
     "text": [
      "[1 2 3 4 5]\n"
     ]
    }
   ],
   "source": [
    "import numpy as np\n",
    "\n",
    "arr = np.array([1, 2, 3, 4, 5])\n",
    "\n",
    "print(arr)"
   ]
  },
  {
   "cell_type": "markdown",
   "id": "1ec3b33f-dea2-408c-861c-88a8b372e1a7",
   "metadata": {},
   "source": [
    "### 2. Checking Numpy Version"
   ]
  },
  {
   "cell_type": "code",
   "execution_count": 31,
   "id": "b8dd34b4-1ce5-42bb-a6b6-e1607114172f",
   "metadata": {},
   "outputs": [
    {
     "name": "stdout",
     "output_type": "stream",
     "text": [
      "1.26.1\n"
     ]
    }
   ],
   "source": [
    "print(np.__version__)"
   ]
  },
  {
   "cell_type": "markdown",
   "id": "ccc6fe3b-d449-4942-974f-01ae20f9ea1f",
   "metadata": {},
   "source": [
    "# Creating Arrays"
   ]
  },
  {
   "cell_type": "code",
   "execution_count": 32,
   "id": "dcdd5165-9146-4a7a-9880-136cf3397ee3",
   "metadata": {},
   "outputs": [
    {
     "name": "stdout",
     "output_type": "stream",
     "text": [
      "[1 2 3 4 5]\n",
      "<class 'numpy.ndarray'>\n"
     ]
    }
   ],
   "source": [
    "arr = np.array([1, 2, 3, 4, 5])\n",
    "\n",
    "print(arr)\n",
    "\n",
    "print(type(arr))"
   ]
  },
  {
   "cell_type": "code",
   "execution_count": 33,
   "id": "601c0e24-39a5-4aab-8c60-2a6a4df58601",
   "metadata": {},
   "outputs": [
    {
     "name": "stdout",
     "output_type": "stream",
     "text": [
      "[1 2 3 4 5]\n"
     ]
    }
   ],
   "source": [
    "# Use a tuple to create a NumPy array:\n",
    "arr = np.array((1, 2, 3, 4, 5))\n",
    "\n",
    "print(arr)\n"
   ]
  },
  {
   "cell_type": "code",
   "execution_count": 34,
   "id": "fa9ce554-6bff-4f30-a120-6ba438ead2c5",
   "metadata": {},
   "outputs": [
    {
     "name": "stdout",
     "output_type": "stream",
     "text": [
      "42\n"
     ]
    }
   ],
   "source": [
    "# 0-D arrays\n",
    "\n",
    "arr = np.array(42)\n",
    "# 0-D array with value of 42\n",
    "print(arr)"
   ]
  },
  {
   "cell_type": "code",
   "execution_count": 35,
   "id": "c8d2a3e4-0819-41ca-ad72-5747d71a4562",
   "metadata": {},
   "outputs": [
    {
     "name": "stdout",
     "output_type": "stream",
     "text": [
      "[1 2 3 4 5]\n"
     ]
    }
   ],
   "source": [
    "# 1-D Arrays\n",
    "\"\"\"An array that has 0-D arrays as its elements is called uni-dimensional or 1-D array. These are the most common and basic arrays.\"\"\"\n",
    "\n",
    "arr = np.array([1, 2, 3, 4, 5])\n",
    "print(arr)"
   ]
  },
  {
   "cell_type": "code",
   "execution_count": 36,
   "id": "e1bed5a7-e004-4aa7-84c3-3e7da5e8cc58",
   "metadata": {},
   "outputs": [
    {
     "name": "stdout",
     "output_type": "stream",
     "text": [
      "[[1 2 3]\n",
      " [4 5 6]]\n"
     ]
    }
   ],
   "source": [
    "# 2-D Arrays\n",
    "\"\"\"An array that has 1-D arrays as its elements is called a 2-D array. These are often used to represent matrix or 2nd order tensors.\"\"\"\n",
    "\n",
    "arr = np.array([[1, 2, 3], [4, 5, 6]])\n",
    "print(arr)"
   ]
  },
  {
   "cell_type": "code",
   "execution_count": 37,
   "id": "4be6ec64-4292-4a9e-87bf-8fa46fa2673e",
   "metadata": {},
   "outputs": [
    {
     "name": "stdout",
     "output_type": "stream",
     "text": [
      "[[[1 2 3]\n",
      "  [4 5 6]]\n",
      "\n",
      " [[1 2 3]\n",
      "  [4 5 6]]]\n"
     ]
    }
   ],
   "source": [
    "# 3-D arrays\n",
    "\"\"\"An array that has 2-D arrays (matrices) as its elements is called 3-D array. These are often used to represent a 3rd order tensor.\"\"\"\n",
    "\n",
    "arr = np.array([[[1, 2, 3], [4, 5, 6]], [[1, 2, 3], [4, 5, 6]]])\n",
    "print(arr)"
   ]
  },
  {
   "cell_type": "code",
   "execution_count": 38,
   "id": "afbd78da",
   "metadata": {},
   "outputs": [
    {
     "data": {
      "text/plain": [
       "array([[1., 1., 1., 1.],\n",
       "       [1., 1., 1., 1.],\n",
       "       [1., 1., 1., 1.]])"
      ]
     },
     "execution_count": 38,
     "metadata": {},
     "output_type": "execute_result"
    }
   ],
   "source": [
    "# np.ones\n",
    "\"\"\"Create an (M x N) size array with full of 1 values.\"\"\"\n",
    "\n",
    "np.ones((3,4))"
   ]
  },
  {
   "cell_type": "code",
   "execution_count": 39,
   "id": "fcbcc08e",
   "metadata": {},
   "outputs": [
    {
     "data": {
      "text/plain": [
       "array([[0., 0., 0., 0.],\n",
       "       [0., 0., 0., 0.],\n",
       "       [0., 0., 0., 0.]])"
      ]
     },
     "execution_count": 39,
     "metadata": {},
     "output_type": "execute_result"
    }
   ],
   "source": [
    "# np.zeros\n",
    "\"\"\"Create an (M x N) size array with full of 0 values.\"\"\"\n",
    "\n",
    "np.zeros((3,4))"
   ]
  },
  {
   "cell_type": "code",
   "execution_count": 40,
   "metadata": {},
   "outputs": [
    {
     "data": {
      "text/plain": [
       "array([[0.85478751, 0.4616302 , 0.14353567],\n",
       "       [0.34271011, 1.50684719, 0.25156562]])"
      ]
     },
     "execution_count": 40,
     "metadata": {},
     "output_type": "execute_result"
    }
   ],
   "source": [
    "# np.empty\n",
    "\"\"\" Create an uninitialized (M x N) size array, filled with garbage values / 0 values.\"\"\"\n",
    "\n",
    "np.empty((2, 3))\n"
   ]
  },
  {
   "cell_type": "code",
   "execution_count": 41,
   "metadata": {},
   "outputs": [
    {
     "data": {
      "text/plain": [
       "array([[1., 0., 0.],\n",
       "       [0., 1., 0.],\n",
       "       [0., 0., 1.]])"
      ]
     },
     "execution_count": 41,
     "metadata": {},
     "output_type": "execute_result"
    }
   ],
   "source": [
    "# np.eye\n",
    "\"\"\"Create a 2D identity matrix with ones on the diagonal and zeros elsewhere.\"\"\"\n",
    "\n",
    "np.eye(3)\n"
   ]
  },
  {
   "cell_type": "code",
   "execution_count": 42,
   "metadata": {},
   "outputs": [
    {
     "data": {
      "text/plain": [
       "array([0, 2, 4, 6, 8])"
      ]
     },
     "execution_count": 42,
     "metadata": {},
     "output_type": "execute_result"
    }
   ],
   "source": [
    "# np.arange\n",
    "\"\"\"Create a 1D array with a range of values from start (inclusive) to stop (exclusive) with a specified step.\"\"\"\n",
    "\n",
    "np.arange(0, 10, 2)\n"
   ]
  },
  {
   "cell_type": "code",
   "execution_count": 43,
   "metadata": {},
   "outputs": [
    {
     "data": {
      "text/plain": [
       "array([0.  , 0.25, 0.5 , 0.75, 1.  ])"
      ]
     },
     "execution_count": 43,
     "metadata": {},
     "output_type": "execute_result"
    }
   ],
   "source": [
    "# np.linspace\n",
    "\"\"\"Create a 1D array with evenly spaced values between start and stop, with a specified number of elements.\"\"\"\n",
    "\n",
    "np.linspace(0, 1, 5)\n"
   ]
  },
  {
   "cell_type": "code",
   "execution_count": 44,
   "metadata": {},
   "outputs": [
    {
     "data": {
      "text/plain": [
       "array([   1.,   10.,  100., 1000.])"
      ]
     },
     "execution_count": 44,
     "metadata": {},
     "output_type": "execute_result"
    }
   ],
   "source": [
    "# np.logspace\n",
    "\"\"\"Create a 1D array with values spaced evenly on a logarithmic scale within a specified range.\"\"\"\n",
    "\n",
    "np.logspace(0, 3, 4)\n"
   ]
  },
  {
   "cell_type": "code",
   "execution_count": 45,
   "metadata": {},
   "outputs": [
    {
     "data": {
      "text/plain": [
       "array([[7, 7, 7, 7],\n",
       "       [7, 7, 7, 7],\n",
       "       [7, 7, 7, 7]])"
      ]
     },
     "execution_count": 45,
     "metadata": {},
     "output_type": "execute_result"
    }
   ],
   "source": [
    "# np.full\n",
    "\"\"\"Create a 2D array with all elements set to a specified value (e.g., 7).\"\"\"\n",
    "\n",
    "np.full((3, 4), 7)\n"
   ]
  },
  {
   "cell_type": "code",
   "execution_count": 46,
   "metadata": {},
   "outputs": [
    {
     "data": {
      "text/plain": [
       "array([8, 6, 1, 7, 5])"
      ]
     },
     "execution_count": 46,
     "metadata": {},
     "output_type": "execute_result"
    }
   ],
   "source": [
    "# np.random.randint\n",
    "\"\"\"Create a 1D array with random integers within a specified range.\"\"\"\n",
    "\n",
    "np.random.randint(1, 10, 5)\n"
   ]
  },
  {
   "cell_type": "code",
   "execution_count": 47,
   "metadata": {},
   "outputs": [
    {
     "data": {
      "text/plain": [
       "array([[0.23541718, 0.08295899, 0.51518257, 0.15881185],\n",
       "       [0.59566342, 0.33427719, 0.175509  , 0.75015246],\n",
       "       [0.54776323, 0.02625008, 0.55122218, 0.13994982]])"
      ]
     },
     "execution_count": 47,
     "metadata": {},
     "output_type": "execute_result"
    }
   ],
   "source": [
    "# np.random.random\n",
    "\"\"\"Create a 2D array with random values from range 0-1\"\"\"\n",
    "\n",
    "np.random.random((3, 4))"
   ]
  },
  {
   "cell_type": "code",
   "execution_count": 48,
   "metadata": {},
   "outputs": [
    {
     "data": {
      "text/plain": [
       "array([[ 2.21974349,  0.51748814,  0.42669521],\n",
       "       [-0.89644215,  0.19095773,  0.40304491]])"
      ]
     },
     "execution_count": 48,
     "metadata": {},
     "output_type": "execute_result"
    }
   ],
   "source": [
    "# np.random.randn\n",
    "\"\"\"Create a 2D array with random values from a standard normal distribution (mean=0, std=1).\"\"\"\n",
    "\n",
    "np.random.randn(2, 3)\n"
   ]
  },
  {
   "cell_type": "markdown",
   "id": "072244ba",
   "metadata": {},
   "source": [
    "### Numpy Data-type"
   ]
  },
  {
   "cell_type": "code",
   "execution_count": 49,
   "id": "36db567f",
   "metadata": {},
   "outputs": [
    {
     "data": {
      "text/plain": [
       "array([1., 2., 3.])"
      ]
     },
     "execution_count": 49,
     "metadata": {},
     "output_type": "execute_result"
    }
   ],
   "source": [
    "# float dtype\n",
    "np.array([1,2,3],dtype=float)"
   ]
  },
  {
   "cell_type": "code",
   "execution_count": 50,
   "id": "f09dbb8a",
   "metadata": {},
   "outputs": [
    {
     "data": {
      "text/plain": [
       "array([1, 2, 3])"
      ]
     },
     "execution_count": 50,
     "metadata": {},
     "output_type": "execute_result"
    }
   ],
   "source": [
    "# int dtype\n",
    "np.array([1,2,3],dtype=int)"
   ]
  },
  {
   "cell_type": "code",
   "execution_count": 51,
   "id": "1752e50a",
   "metadata": {},
   "outputs": [
    {
     "data": {
      "text/plain": [
       "array([1.+0.j, 2.+0.j, 3.+0.j])"
      ]
     },
     "execution_count": 51,
     "metadata": {},
     "output_type": "execute_result"
    }
   ],
   "source": [
    "# complex dtype\n",
    "np.array([1,2,3],dtype=complex)"
   ]
  },
  {
   "cell_type": "code",
   "execution_count": 52,
   "id": "c2447f30",
   "metadata": {},
   "outputs": [
    {
     "data": {
      "text/plain": [
       "array([False,  True,  True,  True])"
      ]
     },
     "execution_count": 52,
     "metadata": {},
     "output_type": "execute_result"
    }
   ],
   "source": [
    "# boolean dtype\n",
    "np.array([0,1,2,3],dtype=bool) # numpy treat all non zero value as True"
   ]
  },
  {
   "cell_type": "markdown",
   "id": "f8c8d029-85c3-476a-a216-86868bfb999f",
   "metadata": {},
   "source": [
    "### Check Number of Dimensions:"
   ]
  },
  {
   "cell_type": "code",
   "execution_count": 53,
   "id": "91ccade8-fa1c-4622-9d93-170217bdb696",
   "metadata": {},
   "outputs": [
    {
     "name": "stdout",
     "output_type": "stream",
     "text": [
      "0\n",
      "1\n",
      "2\n",
      "3\n"
     ]
    }
   ],
   "source": [
    "\"\"\" NumPy Arrays provides the ndim attribute that returns an integer that tells us how many dimensions the array have. \"\"\"\n",
    "\n",
    "a = np.array(42)\n",
    "b = np.array([1, 2, 3, 4],dtype=np.int32)\n",
    "c = np.array([[1, 2, 3], [4, 5, 6]],dtype=int)\n",
    "d = np.array([[[1, 2, 3], [4, 5, 6]], [[1, 2, 3], [4, 5, 6]]],dtype=float)\n",
    "\n",
    "print(a.ndim)\n",
    "print(b.ndim)\n",
    "print(c.ndim)\n",
    "print(d.ndim)"
   ]
  },
  {
   "cell_type": "markdown",
   "id": "210b17aa",
   "metadata": {},
   "source": [
    "### Check Array Shape:"
   ]
  },
  {
   "cell_type": "code",
   "execution_count": 54,
   "id": "f02dae71",
   "metadata": {},
   "outputs": [
    {
     "name": "stdout",
     "output_type": "stream",
     "text": [
      "()\n",
      "(4,)\n",
      "(2, 3)\n",
      "(2, 2, 3)\n"
     ]
    }
   ],
   "source": [
    "print(a.shape)\n",
    "print(b.shape)\n",
    "print(c.shape)\n",
    "print(d.shape)"
   ]
  },
  {
   "cell_type": "markdown",
   "id": "dc0bf1af",
   "metadata": {},
   "source": [
    "### Check Array Size:"
   ]
  },
  {
   "cell_type": "code",
   "execution_count": 55,
   "id": "0ef5c1f5",
   "metadata": {},
   "outputs": [
    {
     "name": "stdout",
     "output_type": "stream",
     "text": [
      "1\n",
      "4\n",
      "6\n",
      "12\n"
     ]
    }
   ],
   "source": [
    "print(a.size)\n",
    "print(b.size)\n",
    "print(c.size)\n",
    "print(d.size)"
   ]
  },
  {
   "cell_type": "markdown",
   "id": "9f66b784",
   "metadata": {},
   "source": [
    "### Check Array Item Size:\n",
    "How many byte use an array for memory"
   ]
  },
  {
   "cell_type": "code",
   "execution_count": 56,
   "id": "295e525e",
   "metadata": {},
   "outputs": [
    {
     "name": "stdout",
     "output_type": "stream",
     "text": [
      "4\n",
      "4\n",
      "4\n",
      "8\n"
     ]
    }
   ],
   "source": [
    "print(a.itemsize)\n",
    "print(b.itemsize)\n",
    "print(c.itemsize)\n",
    "print(d.itemsize)"
   ]
  },
  {
   "cell_type": "markdown",
   "id": "a1c321cf-d112-4008-b3d0-67f6edc52d71",
   "metadata": {},
   "source": [
    "### Higher Dimensional Arrays"
   ]
  },
  {
   "cell_type": "code",
   "execution_count": 57,
   "id": "bbb149db-242f-4527-9f12-ee050b009a95",
   "metadata": {},
   "outputs": [
    {
     "name": "stdout",
     "output_type": "stream",
     "text": [
      "[[[[[1 2 3 4]]]]]\n",
      "number of dimensions : 5\n"
     ]
    }
   ],
   "source": [
    "\"\"\" An array can have any number of dimensions. When the array is created, you can define the number of dimensions by using the ndmin argument. \"\"\"\n",
    "\n",
    "arr = np.array([1, 2, 3, 4], ndmin=5)\n",
    "\n",
    "print(arr)\n",
    "print('number of dimensions :', arr.ndim)"
   ]
  },
  {
   "cell_type": "markdown",
   "id": "f946d3e0-55c4-4b2d-b1bb-8c245bbdbc4d",
   "metadata": {},
   "source": [
    "# Array Indexing"
   ]
  },
  {
   "cell_type": "code",
   "execution_count": 58,
   "id": "a50c12d5-2474-46f7-99a8-fa71d667a469",
   "metadata": {},
   "outputs": [
    {
     "name": "stdout",
     "output_type": "stream",
     "text": [
      "1\n",
      "2\n",
      "7\n"
     ]
    }
   ],
   "source": [
    "arr = np.array([1, 2, 3, 4])\n",
    "\n",
    "print(arr[0])\n",
    "print(arr[1])\n",
    "print(arr[2] + arr[3])"
   ]
  },
  {
   "cell_type": "code",
   "execution_count": 59,
   "id": "8a7fb953-3c26-4da6-ad4e-73028a9b55b9",
   "metadata": {},
   "outputs": [
    {
     "name": "stdout",
     "output_type": "stream",
     "text": [
      "[[ 1  2  3  4  5]\n",
      " [ 6  7  8  9 10]]\n",
      "2nd element on 1st row:  2\n",
      "5th element on 2nd row:  10\n"
     ]
    }
   ],
   "source": [
    "arr = np.array([[1,2,3,4,5], [6,7,8,9,10]])\n",
    "print(arr)\n",
    "print('2nd element on 1st row: ', arr[0, 1])\n",
    "print('5th element on 2nd row: ', arr[1, 4])"
   ]
  },
  {
   "cell_type": "code",
   "execution_count": 60,
   "id": "a0d7d05c-ba8f-47c9-bb2a-f0c12ed44afc",
   "metadata": {},
   "outputs": [
    {
     "name": "stdout",
     "output_type": "stream",
     "text": [
      "[[[ 1  2  3]\n",
      "  [ 4  5  6]]\n",
      "\n",
      " [[ 7  8  9]\n",
      "  [10 11 12]]]\n",
      "6\n"
     ]
    }
   ],
   "source": [
    "arr = np.array([[[1, 2, 3], [4, 5, 6]], [[7, 8, 9], [10, 11, 12]]])\n",
    "print(arr)\n",
    "print(arr[0, 1, 2])"
   ]
  },
  {
   "cell_type": "code",
   "execution_count": 61,
   "id": "405817ab-1b9a-4ab5-bcb7-bdc04514738a",
   "metadata": {},
   "outputs": [
    {
     "name": "stdout",
     "output_type": "stream",
     "text": [
      "[[ 1  2  3  4  5]\n",
      " [ 6  7  8  9 10]]\n",
      "Last element from 2nd dim:  10\n"
     ]
    }
   ],
   "source": [
    "arr = np.array([[1,2,3,4,5], [6,7,8,9,10]])\n",
    "print(arr)\n",
    "print('Last element from 2nd dim: ', arr[1, -1])"
   ]
  },
  {
   "cell_type": "markdown",
   "id": "034b1fc2-e6bc-4d65-ac24-6c071226e4b7",
   "metadata": {},
   "source": [
    "# Array Slicing"
   ]
  },
  {
   "cell_type": "markdown",
   "id": "6016287f-25e1-4921-812e-12fe3200c357",
   "metadata": {},
   "source": [
    "\n",
    "Slicing in python means taking elements from one given index to another given index.\n",
    "\n",
    "We pass slice instead of index like this: [ start : end ].\n",
    "\n",
    "We can also define the step, like this: [ start : end : step ].\n",
    "\n",
    "If we don't pass start its considered 0\n",
    "\n",
    "If we don't pass end its considered length of array in that dimension\n",
    "\n",
    "If we don't pass step its considered 1\n",
    "\n"
   ]
  },
  {
   "cell_type": "markdown",
   "id": "1089fee6-2e9b-46d7-ab5c-adda56e67981",
   "metadata": {},
   "source": [
    "### Slicing 1-D Arrays"
   ]
  },
  {
   "cell_type": "code",
   "execution_count": 62,
   "id": "30d5bb5e-0452-47ab-ab74-69dd39a279c4",
   "metadata": {},
   "outputs": [
    {
     "name": "stdout",
     "output_type": "stream",
     "text": [
      "[2 3 4 5]\n"
     ]
    }
   ],
   "source": [
    "arr = np.array([1, 2, 3, 4, 5, 6, 7])\n",
    "\n",
    "print(arr[1:5])"
   ]
  },
  {
   "cell_type": "code",
   "execution_count": 63,
   "id": "539ff421-e9f7-440b-bb13-6aea819dffee",
   "metadata": {},
   "outputs": [
    {
     "name": "stdout",
     "output_type": "stream",
     "text": [
      "[5 6 7]\n",
      "[1 2 3 4]\n"
     ]
    }
   ],
   "source": [
    "arr = np.array([1, 2, 3, 4, 5, 6, 7])\n",
    "\n",
    "print(arr[4:])\n",
    "print(arr[:4])"
   ]
  },
  {
   "cell_type": "code",
   "execution_count": 64,
   "id": "d1b86e85-3291-4d21-a753-156cad0deaeb",
   "metadata": {},
   "outputs": [
    {
     "name": "stdout",
     "output_type": "stream",
     "text": [
      "[5 6]\n"
     ]
    }
   ],
   "source": [
    "# Negative Slicing\n",
    "arr = np.array([1, 2, 3, 4, 5, 6, 7])\n",
    "\n",
    "print(arr[-3:-1])"
   ]
  },
  {
   "cell_type": "code",
   "execution_count": 65,
   "id": "d00c1ca2-f267-43ea-88ad-2e345e15d7f0",
   "metadata": {},
   "outputs": [
    {
     "name": "stdout",
     "output_type": "stream",
     "text": [
      "[2 4]\n",
      "[1 3 5 7]\n"
     ]
    }
   ],
   "source": [
    "# STEP\n",
    "arr = np.array([1, 2, 3, 4, 5, 6, 7])\n",
    "\n",
    "print(arr[1:5:2])\n",
    "print(arr[::2])\n"
   ]
  },
  {
   "cell_type": "markdown",
   "id": "b8b62c86-ae56-40d9-b040-abe139bb3256",
   "metadata": {},
   "source": [
    "### Slicing 2-D Arrays"
   ]
  },
  {
   "cell_type": "code",
   "execution_count": 66,
   "id": "a0757920-e0e2-4322-8a4f-b5b09da7ed05",
   "metadata": {},
   "outputs": [
    {
     "name": "stdout",
     "output_type": "stream",
     "text": [
      "[7 8 9]\n"
     ]
    }
   ],
   "source": [
    "arr = np.array([[1, 2, 3, 4, 5], [6, 7, 8, 9, 10],[6, 7, 8, 9, 10]])\n",
    "\n",
    "print(arr[1, 1:4])"
   ]
  },
  {
   "cell_type": "code",
   "execution_count": 67,
   "id": "f5f8ee6c-4c8a-4466-bfcf-21c4ebb5ec27",
   "metadata": {},
   "outputs": [
    {
     "name": "stdout",
     "output_type": "stream",
     "text": [
      "[[2 3 4]\n",
      " [7 8 9]\n",
      " [7 8 9]]\n"
     ]
    }
   ],
   "source": [
    "print(arr[:, 1:4])"
   ]
  },
  {
   "cell_type": "code",
   "execution_count": 68,
   "id": "6ba6d001-35f3-4542-9910-96bd3fc33656",
   "metadata": {},
   "outputs": [
    {
     "name": "stdout",
     "output_type": "stream",
     "text": [
      "[3 8 8]\n"
     ]
    }
   ],
   "source": [
    "print(arr[0:3, 2])"
   ]
  },
  {
   "cell_type": "code",
   "execution_count": 69,
   "id": "b20a0427-687f-4bf6-9035-2995d430ff01",
   "metadata": {},
   "outputs": [
    {
     "name": "stdout",
     "output_type": "stream",
     "text": [
      "[[2 3 4]\n",
      " [7 8 9]]\n"
     ]
    }
   ],
   "source": [
    "print(arr[0:2, 1:4])"
   ]
  },
  {
   "cell_type": "markdown",
   "id": "23197a57-4d09-465b-97a6-e18218d3fbff",
   "metadata": {},
   "source": [
    "# Data Types"
   ]
  },
  {
   "cell_type": "markdown",
   "id": "cde88785-b317-49af-ab24-33514d64b3f3",
   "metadata": {
    "tags": []
   },
   "source": [
    "### Data Types in Python\n",
    "By default Python have these data types:\n",
    "\n",
    "- strings - used to represent text data, the text is given under quote marks. e.g. \"ABCD\"\n",
    "- integer - used to represent integer numbers. e.g. -1, -2, -3\n",
    "- float - used to represent real numbers. e.g. 1.2, 42.42\n",
    "- boolean - used to represent True or False.\n",
    "- complex - used to represent complex numbers. e.g. 1.0 + 2.0j, 1.5 + 2.5j\n",
    "\n",
    "### Data Types in NumPy\n",
    "NumPy has some extra data types, and refer to data types with one character, like i for integers, u for unsigned integers etc.\n",
    "\n",
    "Below is a list of all data types in NumPy and the characters used to represent them.\n",
    "\n",
    "- i - integer\n",
    "- b - boolean\n",
    "- u - unsigned integer\n",
    "- f - float\n",
    "- c - complex float\n",
    "- m - timedelta\n",
    "- M - datetime\n",
    "- O - object\n",
    "- S - string\n",
    "- U - unicode string\n",
    "- V - fixed chunk of memory for other type ( void )\n"
   ]
  },
  {
   "cell_type": "code",
   "execution_count": 70,
   "id": "2ebcb3c4-b177-4950-bf28-161c10d9dcd6",
   "metadata": {},
   "outputs": [
    {
     "name": "stdout",
     "output_type": "stream",
     "text": [
      "int32\n"
     ]
    }
   ],
   "source": [
    "arr = np.array([1, 2, 3, 4])\n",
    "\n",
    "print(arr.dtype)"
   ]
  },
  {
   "cell_type": "code",
   "execution_count": 71,
   "id": "a313676e-e1d4-4967-947f-66d16aea69bf",
   "metadata": {},
   "outputs": [
    {
     "name": "stdout",
     "output_type": "stream",
     "text": [
      "<U6\n"
     ]
    }
   ],
   "source": [
    "arr = np.array(['apple', 'banana', 'cherry'])\n",
    "\n",
    "print(arr.dtype)"
   ]
  },
  {
   "cell_type": "code",
   "execution_count": 72,
   "id": "dab946ff-c1bc-46d9-80f7-3dbdf1d048d0",
   "metadata": {},
   "outputs": [
    {
     "name": "stdout",
     "output_type": "stream",
     "text": [
      "[b'1' b'2' b'3' b'4']\n",
      "|S1\n"
     ]
    }
   ],
   "source": [
    "arr = np.array([1, 2, 3, 4], dtype='S')\n",
    "\n",
    "print(arr)\n",
    "print(arr.dtype)"
   ]
  },
  {
   "cell_type": "code",
   "execution_count": 73,
   "id": "b9dd5e98-13aa-488a-bda4-b108d6677c08",
   "metadata": {},
   "outputs": [
    {
     "name": "stdout",
     "output_type": "stream",
     "text": [
      "[1 2 3 4]\n",
      "int32\n"
     ]
    }
   ],
   "source": [
    "arr = np.array([1, 2, 3, 4], dtype='i4')\n",
    "\n",
    "print(arr)\n",
    "print(arr.dtype)"
   ]
  },
  {
   "cell_type": "code",
   "execution_count": 74,
   "id": "4330d6c5-97dd-405a-abcc-19cbafcadcd5",
   "metadata": {},
   "outputs": [],
   "source": [
    "# arr = np.array(['a', '2', '3'], dtype='i')"
   ]
  },
  {
   "cell_type": "markdown",
   "id": "418b167f-a228-49e1-b485-3e365c31562a",
   "metadata": {},
   "source": [
    "### Converting Data Type on Existing Arrays\n",
    "\n",
    "The best way to change the data type of an existing array, is to make a copy of the array with the astype() method.\n",
    "\n",
    "The astype() function creates a copy of the array, and allows you to specify the data type as a parameter.\n",
    "\n",
    "The data type can be specified using a string, like 'f' for float, 'i' for integer etc. or you can use the data type directly like float for float and int for integer."
   ]
  },
  {
   "cell_type": "code",
   "execution_count": 75,
   "id": "8088b329-e6ba-4796-b910-ba955ffaacc3",
   "metadata": {},
   "outputs": [
    {
     "name": "stdout",
     "output_type": "stream",
     "text": [
      "[1.1 2.1 3.1]\n",
      "[1 2 3]\n",
      "int32\n"
     ]
    }
   ],
   "source": [
    "arr = np.array([1.1, 2.1, 3.1])\n",
    "print(arr)\n",
    "newarr = arr.astype('i')\n",
    "\n",
    "print(newarr)\n",
    "print(newarr.dtype)"
   ]
  },
  {
   "cell_type": "code",
   "execution_count": 76,
   "id": "6fc5774d-93ed-4fff-b132-951bbf852b67",
   "metadata": {},
   "outputs": [
    {
     "name": "stdout",
     "output_type": "stream",
     "text": [
      "[1 2 3]\n",
      "int32\n"
     ]
    }
   ],
   "source": [
    "newarr = arr.astype(int)\n",
    "\n",
    "print(newarr)\n",
    "print(newarr.dtype)"
   ]
  },
  {
   "cell_type": "code",
   "execution_count": 77,
   "id": "184165b7-ddf2-4401-af6d-418a9fca5d65",
   "metadata": {},
   "outputs": [
    {
     "name": "stdout",
     "output_type": "stream",
     "text": [
      "[ True False  True  True]\n",
      "bool\n"
     ]
    }
   ],
   "source": [
    "arr = np.array([1, 0, 3, 2])\n",
    "\n",
    "newarr = arr.astype(bool)\n",
    "\n",
    "print(newarr)\n",
    "print(newarr.dtype)"
   ]
  },
  {
   "cell_type": "markdown",
   "id": "b6cb417e-4441-472a-9966-ebe2479f0a83",
   "metadata": {},
   "source": [
    "# NumPy Array Copy vs View"
   ]
  },
  {
   "cell_type": "markdown",
   "id": "931ac0b8-734f-42b2-8543-403c50b53d18",
   "metadata": {},
   "source": [
    "### The Difference Between Copy and View\n",
    "The main difference between a copy and a view of an array is that the copy is a new array, and the view is just a view of the original array.\n",
    "\n",
    "The copy owns the data and any changes made to the copy will not affect original array, and any changes made to the original array will not affect the copy.\n",
    "\n",
    "The view does not own the data and any changes made to the view will affect the original array, and any changes made to the original array will affect the view."
   ]
  },
  {
   "cell_type": "markdown",
   "id": "dbd8c63d-f53e-4a1e-971c-5a951e9d5c9f",
   "metadata": {},
   "source": [
    "### Copy :\n",
    "The copy SHOULD NOT be affected by the changes made to the original array."
   ]
  },
  {
   "cell_type": "code",
   "execution_count": 78,
   "id": "001b3278-778c-4f9b-b984-2af5acb5c552",
   "metadata": {},
   "outputs": [
    {
     "name": "stdout",
     "output_type": "stream",
     "text": [
      "[42  2  3  4  5]\n",
      "[1 2 3 4 5]\n"
     ]
    }
   ],
   "source": [
    "arr = np.array([1, 2, 3, 4, 5])\n",
    "x = arr.copy()\n",
    "arr[0] = 42\n",
    "\n",
    "print(arr)\n",
    "print(x)"
   ]
  },
  {
   "cell_type": "markdown",
   "id": "77d55307-2ea0-403d-b04f-251bc563290a",
   "metadata": {},
   "source": [
    "### VIEW :\n",
    "- The view SHOULD be affected by the changes made to the original array.\n",
    "- The original array SHOULD be affected by the changes made to the view."
   ]
  },
  {
   "cell_type": "code",
   "execution_count": 79,
   "id": "dd2780bd-afeb-4166-9ca2-2452a2bd14e9",
   "metadata": {},
   "outputs": [
    {
     "name": "stdout",
     "output_type": "stream",
     "text": [
      "[42  2  3  4  5]\n",
      "[42  2  3  4  5]\n"
     ]
    }
   ],
   "source": [
    "arr = np.array([1, 2, 3, 4, 5])\n",
    "x = arr.view()\n",
    "arr[0] = 42\n",
    "\n",
    "print(arr)\n",
    "print(x)"
   ]
  },
  {
   "cell_type": "code",
   "execution_count": 80,
   "id": "f1d554f5-ba08-4ff5-973b-10b647267c8c",
   "metadata": {},
   "outputs": [
    {
     "name": "stdout",
     "output_type": "stream",
     "text": [
      "[31  2  3  4  5]\n",
      "[31  2  3  4  5]\n"
     ]
    }
   ],
   "source": [
    "arr = np.array([1, 2, 3, 4, 5])\n",
    "x = arr.view()\n",
    "x[0] = 31\n",
    "\n",
    "print(arr)\n",
    "print(x)"
   ]
  },
  {
   "cell_type": "markdown",
   "id": "0bd7eba0-5dcd-4834-a330-35065c601e9b",
   "metadata": {},
   "source": [
    "### Check if Array Owns its Data\n",
    "\n",
    "As mentioned above, copies owns the data, and views does not own the data, but how can we check this?\n",
    "\n",
    "Every NumPy array has the attribute base that returns None if the array owns the data.\n",
    "\n",
    "Otherwise, the base  attribute refers to the original object."
   ]
  },
  {
   "cell_type": "code",
   "execution_count": 81,
   "id": "899a3c7e-4ab5-46ec-bd22-e059552ee92f",
   "metadata": {},
   "outputs": [
    {
     "name": "stdout",
     "output_type": "stream",
     "text": [
      "None\n",
      "[31  2  3  4  5]\n"
     ]
    }
   ],
   "source": [
    "x = arr.copy()\n",
    "y = arr.view()\n",
    "\n",
    "print(x.base)\n",
    "print(y.base)\n",
    "\n",
    "# The copy returns None.\n",
    "# The view returns the original array."
   ]
  },
  {
   "cell_type": "markdown",
   "id": "06088ea7-bce2-4685-9325-e54df5322f92",
   "metadata": {},
   "source": [
    "# Array Shape"
   ]
  },
  {
   "cell_type": "code",
   "execution_count": 82,
   "id": "570d4f29-b889-47d7-8d52-ae8a3f74284b",
   "metadata": {},
   "outputs": [
    {
     "name": "stdout",
     "output_type": "stream",
     "text": [
      "(2, 4)\n"
     ]
    }
   ],
   "source": [
    "arr = np.array([[1, 2, 3, 4], [5, 6, 7, 8]])\n",
    "\n",
    "print(arr.shape)"
   ]
  },
  {
   "cell_type": "code",
   "execution_count": 83,
   "id": "4f087018-5e3d-4959-afeb-227f48eb58fc",
   "metadata": {},
   "outputs": [
    {
     "name": "stdout",
     "output_type": "stream",
     "text": [
      "[[[[[1 2 3 4]]]]]\n",
      "shape of array : (1, 1, 1, 1, 4)\n"
     ]
    }
   ],
   "source": [
    "arr = np.array([1, 2, 3, 4], ndmin=5)\n",
    "\n",
    "print(arr)\n",
    "print('shape of array :', arr.shape)"
   ]
  },
  {
   "cell_type": "markdown",
   "id": "5a00e8ab",
   "metadata": {},
   "source": [
    "# Array Arranging\n",
    "It works as python range() function.\n",
    "\n",
    "In numpy the function is arange(start,end,step) default step=1"
   ]
  },
  {
   "cell_type": "code",
   "execution_count": 84,
   "id": "b421819c",
   "metadata": {},
   "outputs": [
    {
     "data": {
      "text/plain": [
       "array([ 1,  2,  3,  4,  5,  6,  7,  8,  9, 10])"
      ]
     },
     "execution_count": 84,
     "metadata": {},
     "output_type": "execute_result"
    }
   ],
   "source": [
    "np.arange(1,11)"
   ]
  },
  {
   "cell_type": "code",
   "execution_count": 85,
   "id": "3dfb988f",
   "metadata": {},
   "outputs": [
    {
     "data": {
      "text/plain": [
       "array([1, 3, 5, 7, 9])"
      ]
     },
     "execution_count": 85,
     "metadata": {},
     "output_type": "execute_result"
    }
   ],
   "source": [
    "np.arange(1,11,2)"
   ]
  },
  {
   "cell_type": "markdown",
   "id": "3b7dde09-1292-445b-a43a-cb825759f8c9",
   "metadata": {},
   "source": [
    "# Array Reshaping\n",
    "Reshaping means changing the shape of an array.\n",
    "\n",
    "The shape of an array is the number of elements in each dimension.\n",
    "\n",
    "By reshaping we can add or remove dimensions or change number of elements in each dimension."
   ]
  },
  {
   "cell_type": "code",
   "execution_count": 86,
   "id": "c0325ea6-45ea-495d-ac4b-15dbe1fafcc2",
   "metadata": {},
   "outputs": [
    {
     "name": "stdout",
     "output_type": "stream",
     "text": [
      "[[ 1  2  3]\n",
      " [ 4  5  6]\n",
      " [ 7  8  9]\n",
      " [10 11 12]]\n"
     ]
    }
   ],
   "source": [
    "# Reshape From 1-D to 2-D\n",
    "arr = np.array([1, 2, 3, 4, 5, 6, 7, 8, 9, 10, 11, 12])\n",
    "\n",
    "newarr = arr.reshape(4, 3)\n",
    "\n",
    "print(newarr)"
   ]
  },
  {
   "cell_type": "code",
   "execution_count": 87,
   "id": "cc33f963-2440-4249-b2ed-aae2776eb23c",
   "metadata": {},
   "outputs": [
    {
     "name": "stdout",
     "output_type": "stream",
     "text": [
      "[[[ 1  2]\n",
      "  [ 3  4]\n",
      "  [ 5  6]]\n",
      "\n",
      " [[ 7  8]\n",
      "  [ 9 10]\n",
      "  [11 12]]]\n"
     ]
    }
   ],
   "source": [
    "# Reshape From 1-D to 3-D\n",
    "arr = np.array([1, 2, 3, 4, 5, 6, 7, 8, 9, 10, 11, 12])\n",
    "\n",
    "newarr = arr.reshape(2, 3, 2)\n",
    "\n",
    "print(newarr)"
   ]
  },
  {
   "cell_type": "markdown",
   "id": "18f32bdb-2f79-479a-b0c5-35415c5d9298",
   "metadata": {},
   "source": [
    "### Unknown Dimension\n",
    "You are allowed to have one \"unknown\" dimension.\n",
    "\n",
    "Meaning that you do not have to specify an exact number for one of the dimensions in the reshape method.\n",
    "\n",
    "Pass -1 as the value, and NumPy will calculate this number for you."
   ]
  },
  {
   "cell_type": "code",
   "execution_count": 88,
   "id": "97487489-1b73-4ddc-ab03-6f377b98ab3e",
   "metadata": {},
   "outputs": [
    {
     "name": "stdout",
     "output_type": "stream",
     "text": [
      "[[[1 2]\n",
      "  [3 4]]\n",
      "\n",
      " [[5 6]\n",
      "  [7 8]]]\n"
     ]
    }
   ],
   "source": [
    "arr = np.array([1, 2, 3, 4, 5, 6, 7, 8])\n",
    "\n",
    "newarr = arr.reshape(2, 2, -1)\n",
    "\n",
    "print(newarr)"
   ]
  },
  {
   "cell_type": "markdown",
   "id": "b7d8efd2-5fa3-4788-ae32-b00a174d1b9a",
   "metadata": {},
   "source": [
    "### Flattening the arrays\n",
    "Flattening array means converting a multidimensional array into a 1D array.\n",
    "\n",
    "We can use reshape(-1) to do this.\n",
    "\n",
    "Note: There are a lot of functions for changing the shapes of arrays in numpy flatten, ravel and also for rearranging the elements rot90, flip, fliplr, flipud etc. These fall under Intermediate to Advanced section of numpy.\n",
    "\n"
   ]
  },
  {
   "cell_type": "code",
   "execution_count": 89,
   "id": "f17fd15b-31cb-4dad-9aae-89c8d828ce9a",
   "metadata": {},
   "outputs": [
    {
     "name": "stdout",
     "output_type": "stream",
     "text": [
      "[1 2 3 4 5 6]\n"
     ]
    }
   ],
   "source": [
    "arr = np.array([[1, 2, 3], [4, 5, 6]])\n",
    "\n",
    "newarr = arr.reshape(-1)\n",
    "\n",
    "print(newarr)"
   ]
  },
  {
   "cell_type": "markdown",
   "id": "b5d2db84-bb31-442b-8198-1b360edfe242",
   "metadata": {
    "tags": []
   },
   "source": [
    "# Array Iterating\n"
   ]
  },
  {
   "cell_type": "code",
   "execution_count": 90,
   "id": "909050a5-a414-49fe-a26b-e5678b4cc568",
   "metadata": {},
   "outputs": [
    {
     "name": "stdout",
     "output_type": "stream",
     "text": [
      "1\n",
      "2\n",
      "3\n"
     ]
    }
   ],
   "source": [
    "arr = np.array([1, 2, 3])\n",
    "\n",
    "for x in arr:\n",
    "  print(x)"
   ]
  },
  {
   "cell_type": "code",
   "execution_count": 91,
   "id": "2fa6b50b-7e8f-4173-8e5e-188af4067d72",
   "metadata": {},
   "outputs": [
    {
     "name": "stdout",
     "output_type": "stream",
     "text": [
      "[1 2 3]\n",
      "[4 5 6]\n",
      "1\n",
      "2\n",
      "3\n",
      "4\n",
      "5\n",
      "6\n"
     ]
    }
   ],
   "source": [
    "arr = np.array([[1, 2, 3], [4, 5, 6]])\n",
    "\n",
    "for x in arr:\n",
    "  print(x)\n",
    "        \n",
    "\n",
    "\n",
    "for x in arr:\n",
    "  for y in x:\n",
    "    print(y)"
   ]
  },
  {
   "cell_type": "code",
   "execution_count": 92,
   "id": "a48eabc2-f73d-4b68-84ff-a336455e6317",
   "metadata": {},
   "outputs": [
    {
     "name": "stdout",
     "output_type": "stream",
     "text": [
      "[[1 2 3]\n",
      " [4 5 6]]\n",
      "[[ 7  8  9]\n",
      " [10 11 12]]\n",
      "1\n",
      "2\n",
      "3\n",
      "4\n",
      "5\n",
      "6\n",
      "7\n",
      "8\n",
      "9\n",
      "10\n",
      "11\n",
      "12\n"
     ]
    }
   ],
   "source": [
    "arr = np.array([[[1, 2, 3], [4, 5, 6]], [[7, 8, 9], [10, 11, 12]]])\n",
    "\n",
    "for x in arr:\n",
    "  print(x)\n",
    "\n",
    "\n",
    "for x in arr:\n",
    "  for y in x:\n",
    "    for z in y:\n",
    "      print(z)"
   ]
  },
  {
   "cell_type": "markdown",
   "id": "bc2f1eec-a1f9-4a4d-b768-48f0471520ad",
   "metadata": {},
   "source": [
    "### Iterating Arrays Using nditer()\n",
    "The function nditer() is a helping function that can be used from very basic to very advanced iterations. It solves some basic issues which we face in iteration, lets go through it with examples.\n",
    "\n",
    "Iterating on Each Scalar Element :\n",
    "\n",
    "In basic for loops, iterating through each scalar of an array we need to use n for loops which can be difficult to write for arrays with very high dimensionality."
   ]
  },
  {
   "cell_type": "code",
   "execution_count": 93,
   "id": "a60377d7-879f-46e5-b6cd-aed7b1decbc1",
   "metadata": {},
   "outputs": [
    {
     "name": "stdout",
     "output_type": "stream",
     "text": [
      "1\n",
      "2\n",
      "3\n",
      "4\n",
      "5\n",
      "6\n",
      "7\n",
      "8\n"
     ]
    }
   ],
   "source": [
    "arr = np.array([[[1, 2], [3, 4]], [[5, 6], [7, 8]]])\n",
    "\n",
    "for x in np.nditer(arr):\n",
    "  print(x)"
   ]
  },
  {
   "cell_type": "markdown",
   "id": "8a409288-c33f-43b5-bd86-90fa7a455124",
   "metadata": {},
   "source": [
    "### Iteration Using ndenumerate()"
   ]
  },
  {
   "cell_type": "code",
   "execution_count": 94,
   "id": "b7caffb9-891e-46a9-8cfb-974f3dcb031b",
   "metadata": {},
   "outputs": [
    {
     "name": "stdout",
     "output_type": "stream",
     "text": [
      "(0,) 1\n",
      "(1,) 2\n",
      "(2,) 3\n"
     ]
    }
   ],
   "source": [
    "arr = np.array([1, 2, 3])\n",
    "\n",
    "for idx, x in np.ndenumerate(arr):\n",
    "  print(idx, x)"
   ]
  },
  {
   "cell_type": "code",
   "execution_count": 95,
   "id": "5dcdc0a9-1623-4616-a2b3-c3120b946244",
   "metadata": {},
   "outputs": [
    {
     "name": "stdout",
     "output_type": "stream",
     "text": [
      "(0, 0) 1\n",
      "(0, 1) 2\n",
      "(0, 2) 3\n",
      "(0, 3) 4\n",
      "(1, 0) 5\n",
      "(1, 1) 6\n",
      "(1, 2) 7\n",
      "(1, 3) 8\n"
     ]
    }
   ],
   "source": [
    "arr = np.array([[1, 2, 3, 4], [5, 6, 7, 8]])\n",
    "\n",
    "for idx, x in np.ndenumerate(arr):\n",
    "  print(idx, x)"
   ]
  },
  {
   "cell_type": "markdown",
   "id": "ff64d8fb-0410-4dc8-a639-c6d0eb868dc5",
   "metadata": {},
   "source": [
    "# Joining Array"
   ]
  },
  {
   "cell_type": "code",
   "execution_count": 96,
   "id": "4e901639-74c1-42d8-b325-e8706d305d53",
   "metadata": {},
   "outputs": [
    {
     "name": "stdout",
     "output_type": "stream",
     "text": [
      "[1 2 3 4 5 6]\n"
     ]
    }
   ],
   "source": [
    "arr1 = np.array([1, 2, 3])\n",
    "\n",
    "arr2 = np.array([4, 5, 6])\n",
    "\n",
    "arr = np.concatenate((arr1, arr2))\n",
    "\n",
    "print(arr)"
   ]
  },
  {
   "cell_type": "code",
   "execution_count": 97,
   "id": "61d78e1e-6820-4460-8a6a-348e3532a961",
   "metadata": {},
   "outputs": [
    {
     "name": "stdout",
     "output_type": "stream",
     "text": [
      "[[1 2 5 6]\n",
      " [3 4 7 8]]\n"
     ]
    }
   ],
   "source": [
    "arr1 = np.array([[1, 2], [3, 4]])\n",
    "\n",
    "arr2 = np.array([[5, 6], [7, 8]])\n",
    "\n",
    "arr = np.concatenate((arr1, arr2), axis=1)\n",
    "\n",
    "print(arr)\n"
   ]
  },
  {
   "cell_type": "markdown",
   "id": "687090fd-c215-430a-8a05-6968e293df3b",
   "metadata": {},
   "source": [
    "### Joining Arrays Using Stack Functions\n",
    "Stacking is same as concatenation, the only difference is that stacking is done along a new axis.\n",
    "\n",
    "We can concatenate two 1-D arrays along the second axis which would result in putting them one over the other, ie. stacking.\n",
    "\n",
    "We pass a sequence of arrays that we want to join to the stack() method along with the axis. If axis is not explicitly passed it is taken as 0."
   ]
  },
  {
   "cell_type": "code",
   "execution_count": 98,
   "id": "3fd86fbe-c1b9-4866-b1c0-0798d5956157",
   "metadata": {},
   "outputs": [
    {
     "name": "stdout",
     "output_type": "stream",
     "text": [
      "[[1 4]\n",
      " [2 5]\n",
      " [3 6]]\n",
      "[[1 2 3]\n",
      " [4 5 6]]\n"
     ]
    }
   ],
   "source": [
    "arr1 = np.array([1, 2, 3])\n",
    "\n",
    "arr2 = np.array([4, 5, 6])\n",
    "\n",
    "arr = np.stack((arr1, arr2), axis=1)\n",
    "print(arr)\n",
    "      \n",
    "arr = np.stack((arr1, arr2), axis=0)\n",
    "print(arr)"
   ]
  },
  {
   "cell_type": "markdown",
   "id": "81553f16-4740-4ae8-8570-1e18e0292d7f",
   "metadata": {},
   "source": [
    "### Stacking Along Rows\n",
    "NumPy provides a helper function: hstack() to stack along rows.\n"
   ]
  },
  {
   "cell_type": "code",
   "execution_count": 99,
   "id": "1e1119e2-8891-4879-98ba-4e5e196d1bdb",
   "metadata": {},
   "outputs": [
    {
     "name": "stdout",
     "output_type": "stream",
     "text": [
      "[1 2 3 4 5 6]\n"
     ]
    }
   ],
   "source": [
    "arr1 = np.array([1, 2, 3])\n",
    "\n",
    "arr2 = np.array([4, 5, 6])\n",
    "\n",
    "arr = np.hstack((arr1, arr2))\n",
    "\n",
    "print(arr)"
   ]
  },
  {
   "cell_type": "markdown",
   "id": "1aed9f07-429a-4ed1-ad9f-18479d6172e7",
   "metadata": {},
   "source": [
    "### Stacking Along Columns\n",
    "NumPy provides a helper function: vstack()  to stack along columns."
   ]
  },
  {
   "cell_type": "code",
   "execution_count": 100,
   "id": "a7935e0d-748a-4bcf-ab09-0b8f1fb55cb0",
   "metadata": {},
   "outputs": [
    {
     "name": "stdout",
     "output_type": "stream",
     "text": [
      "[[1 2 3]\n",
      " [4 5 6]]\n"
     ]
    }
   ],
   "source": [
    "arr1 = np.array([1, 2, 3])\n",
    "\n",
    "arr2 = np.array([4, 5, 6])\n",
    "\n",
    "arr = np.vstack((arr1, arr2))\n",
    "\n",
    "print(arr)"
   ]
  },
  {
   "cell_type": "markdown",
   "id": "0a4704c7-0c5c-4afe-a21f-1ebbbd91a875",
   "metadata": {},
   "source": [
    "### Stacking Along Height (depth)\n",
    "NumPy provides a helper function: dstack() to stack along height, which is the same as depth."
   ]
  },
  {
   "cell_type": "code",
   "execution_count": 101,
   "id": "202bba14-c850-4222-a586-a80102a2d979",
   "metadata": {},
   "outputs": [
    {
     "name": "stdout",
     "output_type": "stream",
     "text": [
      "[[[1 4]\n",
      "  [2 5]\n",
      "  [3 6]]]\n"
     ]
    }
   ],
   "source": [
    "arr1 = np.array([1, 2, 3])\n",
    "\n",
    "arr2 = np.array([4, 5, 6])\n",
    "\n",
    "arr = np.dstack((arr1, arr2))\n",
    "\n",
    "print(arr)"
   ]
  },
  {
   "cell_type": "markdown",
   "id": "a4de0529-68f0-41a4-b791-77ca6848533e",
   "metadata": {},
   "source": [
    "# Splitting Array"
   ]
  },
  {
   "cell_type": "code",
   "execution_count": 102,
   "id": "d45666e5-9f5e-46c5-a63d-57f42cd3e264",
   "metadata": {},
   "outputs": [
    {
     "name": "stdout",
     "output_type": "stream",
     "text": [
      "[array([1, 2]), array([3, 4]), array([5, 6])]\n"
     ]
    }
   ],
   "source": [
    "arr = np.array([1, 2, 3, 4, 5, 6])\n",
    "\n",
    "newarr = np.array_split(arr, 3)\n",
    "\n",
    "print(newarr)"
   ]
  },
  {
   "cell_type": "code",
   "execution_count": 103,
   "id": "fb1ddb3a-ebff-41e7-853b-d64d975a0689",
   "metadata": {},
   "outputs": [
    {
     "name": "stdout",
     "output_type": "stream",
     "text": [
      "[1 2]\n",
      "[3 4]\n",
      "[5 6]\n"
     ]
    }
   ],
   "source": [
    "arr = np.array([1, 2, 3, 4, 5, 6])\n",
    "\n",
    "newarr = np.array_split(arr, 3)\n",
    "\n",
    "print(newarr[0])\n",
    "print(newarr[1])\n",
    "print(newarr[2])"
   ]
  },
  {
   "cell_type": "code",
   "execution_count": 104,
   "id": "2df68a81-cb5e-40c8-a45b-8f7e0e0b60e5",
   "metadata": {},
   "outputs": [
    {
     "name": "stdout",
     "output_type": "stream",
     "text": [
      "[array([[1, 2],\n",
      "       [3, 4]]), array([[5, 6],\n",
      "       [7, 8]]), array([[ 9, 10],\n",
      "       [11, 12]])]\n",
      "[[1 2]\n",
      " [3 4]]\n",
      "[[5 6]\n",
      " [7 8]]\n",
      "[[ 9 10]\n",
      " [11 12]]\n"
     ]
    }
   ],
   "source": [
    "arr = np.array([[1, 2], [3, 4], [5, 6], [7, 8], [9, 10], [11, 12]])\n",
    "\n",
    "newarr = np.array_split(arr, 3)\n",
    "\n",
    "print(newarr)\n",
    "\n",
    "print(newarr[0])\n",
    "print(newarr[1])\n",
    "print(newarr[2])"
   ]
  },
  {
   "cell_type": "code",
   "execution_count": 105,
   "id": "dbc46b4e-c15e-49f2-ac17-9ccf340aaaaf",
   "metadata": {},
   "outputs": [
    {
     "name": "stdout",
     "output_type": "stream",
     "text": [
      "[array([[1, 2, 3],\n",
      "       [4, 5, 6]]), array([[ 7,  8,  9],\n",
      "       [10, 11, 12]]), array([[13, 14, 15],\n",
      "       [16, 17, 18]])]\n",
      "[[1 2 3]\n",
      " [4 5 6]]\n",
      "[[ 7  8  9]\n",
      " [10 11 12]]\n",
      "[[13 14 15]\n",
      " [16 17 18]]\n"
     ]
    }
   ],
   "source": [
    "arr = np.array([[1, 2, 3], [4, 5, 6], [7, 8, 9], [10, 11, 12], [13, 14, 15], [16, 17, 18]])\n",
    "\n",
    "newarr = np.array_split(arr, 3)\n",
    "\n",
    "print(newarr)\n",
    "\n",
    "print(newarr[0])\n",
    "print(newarr[1])\n",
    "print(newarr[2])"
   ]
  },
  {
   "cell_type": "markdown",
   "id": "a388055e-9bea-48c9-bdf6-bef6735ee65a",
   "metadata": {
    "tags": []
   },
   "source": [
    "# Searching Arrays\n",
    "ou can search an array for a certain value, and return the indexes that get a match.\n",
    "\n",
    "To search an array, use the where() method."
   ]
  },
  {
   "cell_type": "code",
   "execution_count": 106,
   "id": "0fdf7e9d-4e35-438e-afb2-a67e3ced60b4",
   "metadata": {},
   "outputs": [
    {
     "name": "stdout",
     "output_type": "stream",
     "text": [
      "(array([3, 5, 6], dtype=int64),)\n"
     ]
    }
   ],
   "source": [
    "arr = np.array([1, 2, 3, 4, 5, 4, 4])\n",
    "\n",
    "x = np.where(arr == 4)\n",
    "\n",
    "print(x)"
   ]
  },
  {
   "cell_type": "code",
   "execution_count": 107,
   "id": "9eec7473-69dc-4397-a4cf-73174ffdd6da",
   "metadata": {},
   "outputs": [
    {
     "name": "stdout",
     "output_type": "stream",
     "text": [
      "(array([1, 3, 5, 7], dtype=int64),)\n"
     ]
    }
   ],
   "source": [
    "arr = np.array([1, 2, 3, 4, 5, 6, 7, 8])\n",
    "\n",
    "x = np.where(arr%2 == 0)\n",
    "\n",
    "print(x)"
   ]
  },
  {
   "cell_type": "code",
   "execution_count": 108,
   "id": "aa6de951-c4bd-489c-8269-73c59e4d8a9a",
   "metadata": {},
   "outputs": [
    {
     "name": "stdout",
     "output_type": "stream",
     "text": [
      "(array([0, 2, 4, 6], dtype=int64),)\n"
     ]
    }
   ],
   "source": [
    "arr = np.array([1, 2, 3, 4, 5, 6, 7, 8])\n",
    "\n",
    "x = np.where(arr%2 == 1)\n",
    "\n",
    "print(x)"
   ]
  },
  {
   "cell_type": "markdown",
   "id": "1de2db57-d532-4331-8a6a-b0d9170166a6",
   "metadata": {},
   "source": [
    "### Search Sorted\n",
    "There is a method called searchsorted() which performs a binary search in the array, and returns the index where the specified value would be inserted to maintain the search order."
   ]
  },
  {
   "cell_type": "code",
   "execution_count": 109,
   "id": "b8a8d3bf-ae0a-4a5e-b42e-010b17b0fd44",
   "metadata": {},
   "outputs": [
    {
     "name": "stdout",
     "output_type": "stream",
     "text": [
      "1\n"
     ]
    }
   ],
   "source": [
    "arr = np.array([6, 7, 8, 9])\n",
    "\n",
    "x = np.searchsorted(arr, 7)\n",
    "print(x)"
   ]
  },
  {
   "cell_type": "code",
   "execution_count": 110,
   "id": "653adad6-4c36-4421-baf1-b4ef63340ae0",
   "metadata": {},
   "outputs": [
    {
     "name": "stdout",
     "output_type": "stream",
     "text": [
      "2\n"
     ]
    }
   ],
   "source": [
    "arr = np.array([6, 7, 8, 9])\n",
    "\n",
    "x = np.searchsorted(arr, 7, side='right')\n",
    "print(x)"
   ]
  },
  {
   "cell_type": "code",
   "execution_count": 111,
   "id": "da7cfecd-6fed-4678-95fb-40ae12481a3c",
   "metadata": {},
   "outputs": [
    {
     "name": "stdout",
     "output_type": "stream",
     "text": [
      "[1 2 3]\n"
     ]
    }
   ],
   "source": [
    "arr = np.array([1, 3, 5, 7])\n",
    "\n",
    "x = np.searchsorted(arr, [2, 4, 6])\n",
    "print(x)"
   ]
  },
  {
   "cell_type": "markdown",
   "id": "2e8ca38b-bf3d-4781-ba4a-b1939eb63658",
   "metadata": {},
   "source": [
    "# Sorting Arrays"
   ]
  },
  {
   "cell_type": "code",
   "execution_count": 112,
   "id": "2174c651-a7ee-44db-9876-3dc95bcc9a8b",
   "metadata": {},
   "outputs": [
    {
     "name": "stdout",
     "output_type": "stream",
     "text": [
      "[0 1 2 3]\n"
     ]
    }
   ],
   "source": [
    "arr = np.array([3, 2, 0, 1])\n",
    "\n",
    "#  This method returns a copy of the array, leaving the original array unchanged.\n",
    "print(np.sort(arr))"
   ]
  },
  {
   "cell_type": "code",
   "execution_count": 113,
   "id": "a1be52c8-b940-40e2-8819-95d8e37d782b",
   "metadata": {},
   "outputs": [
    {
     "name": "stdout",
     "output_type": "stream",
     "text": [
      "['apple' 'banana' 'cherry']\n"
     ]
    }
   ],
   "source": [
    "arr = np.array(['banana', 'cherry', 'apple'])\n",
    "\n",
    "# Sort the array alphabetically\n",
    "print(np.sort(arr))"
   ]
  },
  {
   "cell_type": "code",
   "execution_count": 114,
   "id": "990f9784-bec6-4b94-8122-17b1397cdacc",
   "metadata": {},
   "outputs": [
    {
     "name": "stdout",
     "output_type": "stream",
     "text": [
      "[False  True  True]\n"
     ]
    }
   ],
   "source": [
    "arr = np.array([True, False, True])\n",
    "print(np.sort(arr))"
   ]
  },
  {
   "cell_type": "code",
   "execution_count": 115,
   "id": "2cb6665e-f08a-4fe6-9f7a-67356566bf35",
   "metadata": {},
   "outputs": [
    {
     "name": "stdout",
     "output_type": "stream",
     "text": [
      "[[2 3 4]\n",
      " [0 1 5]]\n"
     ]
    }
   ],
   "source": [
    "arr = np.array([[3, 2, 4], [5, 0, 1]])\n",
    "print(np.sort(arr))"
   ]
  },
  {
   "cell_type": "markdown",
   "id": "e24fe70a-854c-468d-aaed-6184a66036a7",
   "metadata": {},
   "source": [
    "# Filter Array"
   ]
  },
  {
   "cell_type": "code",
   "execution_count": 116,
   "id": "7864b95f-2b36-44b8-b02d-2e2f1f23e536",
   "metadata": {},
   "outputs": [
    {
     "name": "stdout",
     "output_type": "stream",
     "text": [
      "[41 43]\n"
     ]
    }
   ],
   "source": [
    "arr = np.array([41, 42, 43, 44])\n",
    "\n",
    "x = [True, False, True, False]\n",
    "\n",
    "newarr = arr[x]\n",
    "\n",
    "print(newarr)"
   ]
  },
  {
   "cell_type": "code",
   "execution_count": 117,
   "id": "d0148a3e-f734-4afe-84f6-c335325e35ff",
   "metadata": {},
   "outputs": [
    {
     "name": "stdout",
     "output_type": "stream",
     "text": [
      "[False, False, True, True]\n",
      "[43 44]\n"
     ]
    }
   ],
   "source": [
    "# Creating the Filter Array\n",
    "arr = np.array([41, 42, 43, 44])\n",
    "\n",
    "# Create an empty list\n",
    "filter_arr = []\n",
    "\n",
    "# go through each element in arr\n",
    "for element in arr:\n",
    "  # if the element is higher than 42, set the value to True, otherwise False:\n",
    "  if element > 42:\n",
    "    filter_arr.append(True)\n",
    "  else:\n",
    "    filter_arr.append(False)\n",
    "\n",
    "newarr = arr[filter_arr]\n",
    "\n",
    "print(filter_arr)\n",
    "print(newarr)"
   ]
  },
  {
   "cell_type": "markdown",
   "id": "e5f66869",
   "metadata": {},
   "source": [
    "# Aritmetic Operation"
   ]
  },
  {
   "cell_type": "code",
   "execution_count": 118,
   "id": "5c3277ce",
   "metadata": {},
   "outputs": [],
   "source": [
    "a1 = np.arange(12).reshape(3,4)\n",
    "a2 = np.arange(12,24).reshape(3,4)"
   ]
  },
  {
   "cell_type": "code",
   "execution_count": 119,
   "id": "50366b78",
   "metadata": {},
   "outputs": [
    {
     "data": {
      "text/plain": [
       "array([[ 0,  1,  2,  3],\n",
       "       [ 4,  5,  6,  7],\n",
       "       [ 8,  9, 10, 11]])"
      ]
     },
     "execution_count": 119,
     "metadata": {},
     "output_type": "execute_result"
    }
   ],
   "source": [
    "a1"
   ]
  },
  {
   "cell_type": "code",
   "execution_count": 120,
   "id": "74ffc576",
   "metadata": {},
   "outputs": [
    {
     "data": {
      "text/plain": [
       "array([[12, 13, 14, 15],\n",
       "       [16, 17, 18, 19],\n",
       "       [20, 21, 22, 23]])"
      ]
     },
     "execution_count": 120,
     "metadata": {},
     "output_type": "execute_result"
    }
   ],
   "source": [
    "a2"
   ]
  },
  {
   "cell_type": "code",
   "execution_count": 121,
   "id": "0a52f05b",
   "metadata": {},
   "outputs": [
    {
     "data": {
      "text/plain": [
       "array([[  0,   1,   4,   9],\n",
       "       [ 16,  25,  36,  49],\n",
       "       [ 64,  81, 100, 121]])"
      ]
     },
     "execution_count": 121,
     "metadata": {},
     "output_type": "execute_result"
    }
   ],
   "source": [
    "# scalar operations\n",
    "\n",
    "# arithmetic\n",
    "a1 ** 2"
   ]
  },
  {
   "cell_type": "code",
   "execution_count": 122,
   "id": "08a95c0e",
   "metadata": {},
   "outputs": [
    {
     "data": {
      "text/plain": [
       "array([[False, False, False,  True],\n",
       "       [False, False, False, False],\n",
       "       [False, False, False, False]])"
      ]
     },
     "execution_count": 122,
     "metadata": {},
     "output_type": "execute_result"
    }
   ],
   "source": [
    "# relational\n",
    "a2 == 15"
   ]
  },
  {
   "cell_type": "code",
   "execution_count": null,
   "id": "6551be24",
   "metadata": {},
   "outputs": [],
   "source": []
  }
 ],
 "metadata": {
  "kernelspec": {
   "display_name": "py",
   "language": "python",
   "name": "python3"
  },
  "language_info": {
   "codemirror_mode": {
    "name": "ipython",
    "version": 3
   },
   "file_extension": ".py",
   "mimetype": "text/x-python",
   "name": "python",
   "nbconvert_exporter": "python",
   "pygments_lexer": "ipython3",
   "version": "3.10.9"
  }
 },
 "nbformat": 4,
 "nbformat_minor": 5
}
