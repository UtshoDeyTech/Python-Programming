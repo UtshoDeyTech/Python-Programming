{
 "cells": [
  {
   "cell_type": "markdown",
   "metadata": {
    "tags": []
   },
   "source": [
    "# Random Numbers in NumPy"
   ]
  },
  {
   "cell_type": "code",
   "execution_count": 1,
   "metadata": {},
   "outputs": [],
   "source": [
    "from numpy import random"
   ]
  },
  {
   "cell_type": "code",
   "execution_count": 2,
   "metadata": {},
   "outputs": [
    {
     "name": "stdout",
     "output_type": "stream",
     "text": [
      "43\n"
     ]
    }
   ],
   "source": [
    "x = random.randint(100)\n",
    "# Generate a random integer from 0 to 100:\n",
    "print(x)"
   ]
  },
  {
   "cell_type": "code",
   "execution_count": 3,
   "metadata": {},
   "outputs": [
    {
     "name": "stdout",
     "output_type": "stream",
     "text": [
      "0.8679776717853925\n"
     ]
    }
   ],
   "source": [
    "x = random.rand()\n",
    "# Generate a random float from 0 to 1:\n",
    "print(x)"
   ]
  },
  {
   "cell_type": "code",
   "execution_count": 4,
   "metadata": {},
   "outputs": [
    {
     "name": "stdout",
     "output_type": "stream",
     "text": [
      "[ 4 11 69 18  6]\n"
     ]
    }
   ],
   "source": [
    "x=random.randint(100, size=(5))\n",
    "# Generate a 1-D array containing 5 random integers from 0 to 100:\n",
    "print(x)"
   ]
  },
  {
   "cell_type": "code",
   "execution_count": 5,
   "metadata": {},
   "outputs": [
    {
     "name": "stdout",
     "output_type": "stream",
     "text": [
      "[[34 95 90 46 44]\n",
      " [13 91 69 33 38]\n",
      " [16  8 72  7  3]]\n"
     ]
    }
   ],
   "source": [
    "x = random.randint(100, size=(3, 5))\n",
    "# Generate a 2-D array with 3 rows, each row containing 5 random integers from 0 to 100:\n",
    "print(x)"
   ]
  },
  {
   "cell_type": "code",
   "execution_count": 6,
   "metadata": {},
   "outputs": [
    {
     "name": "stdout",
     "output_type": "stream",
     "text": [
      "[0.89965258 0.91109263 0.16194756 0.62286579 0.69532635]\n"
     ]
    }
   ],
   "source": [
    "x = random.rand(5)\n",
    "# Generate a 1-D array containing 5 random floats:\n",
    "print(x)"
   ]
  },
  {
   "cell_type": "code",
   "execution_count": 7,
   "metadata": {},
   "outputs": [
    {
     "name": "stdout",
     "output_type": "stream",
     "text": [
      "[[0.66945475 0.83948177 0.03012093 0.15267778 0.45289078]\n",
      " [0.33397498 0.46175254 0.64334266 0.26320141 0.57540727]\n",
      " [0.32174349 0.84875241 0.38892322 0.35373678 0.17413287]]\n"
     ]
    }
   ],
   "source": [
    "x = random.rand(3, 5)\n",
    "# Generate a 2-D array with 3 rows, each row containing 5 random numbers:\n",
    "print(x)"
   ]
  },
  {
   "cell_type": "code",
   "execution_count": 8,
   "metadata": {},
   "outputs": [
    {
     "name": "stdout",
     "output_type": "stream",
     "text": [
      "9\n"
     ]
    }
   ],
   "source": [
    "x = random.choice([3, 5, 7, 9])\n",
    "# The choice() method allows you to generate a random value based on an array of values.\n",
    "# The choice() method takes an array as a parameter and randomly returns one of the values.\n",
    "print(x)"
   ]
  },
  {
   "cell_type": "code",
   "execution_count": 9,
   "metadata": {},
   "outputs": [
    {
     "name": "stdout",
     "output_type": "stream",
     "text": [
      "[[9 3 9 9 3]\n",
      " [7 9 5 5 7]\n",
      " [5 7 7 3 5]]\n"
     ]
    }
   ],
   "source": [
    "x = random.choice([3, 5, 7, 9], size=(3, 5))\n",
    "# Generate a 2-D array that consists of the values in the array parameter (3, 5, 7, and 9):\n",
    "print(x)"
   ]
  },
  {
   "cell_type": "markdown",
   "metadata": {},
   "source": [
    "# Random Data Distribution"
   ]
  },
  {
   "cell_type": "code",
   "execution_count": 10,
   "metadata": {},
   "outputs": [
    {
     "name": "stdout",
     "output_type": "stream",
     "text": [
      "[7 5 7 5 7 5 5 7 7 7 7 5 7 7 5 7 7 7 7 5 5 7 7 3 7 7 7 5 7 7 7 7 7 7 5 7 7\n",
      " 5 3 7 3 7 5 7 7 7 7 7 7 7 5 7 7 7 5 3 7 7 5 7 7 7 5 7 7 7 5 5 7 7 5 7 7 7\n",
      " 5 3 5 7 5 7 7 5 7 5 7 5 7 7 3 7 5 5 5 7 5 7 7 7 7 5]\n"
     ]
    }
   ],
   "source": [
    "x = random.choice([3, 5, 7, 9], p=[0.1, 0.3, 0.6, 0.0], size=(100))\n",
    "print(x)"
   ]
  },
  {
   "cell_type": "code",
   "execution_count": 11,
   "metadata": {},
   "outputs": [
    {
     "name": "stdout",
     "output_type": "stream",
     "text": [
      "[[7 7 7 3 3]\n",
      " [7 5 7 7 7]\n",
      " [7 7 5 7 7]]\n"
     ]
    }
   ],
   "source": [
    "x = random.choice([3, 5, 7, 9], p=[0.1, 0.3, 0.6, 0.0], size=(3, 5)) # size (3,5) means 3 rows & 5 columns\n",
    "\n",
    "print(x)"
   ]
  },
  {
   "cell_type": "code",
   "execution_count": null,
   "metadata": {},
   "outputs": [],
   "source": []
  }
 ],
 "metadata": {
  "kernelspec": {
   "display_name": "py",
   "language": "python",
   "name": "python3"
  },
  "language_info": {
   "codemirror_mode": {
    "name": "ipython",
    "version": 3
   },
   "file_extension": ".py",
   "mimetype": "text/x-python",
   "name": "python",
   "nbconvert_exporter": "python",
   "pygments_lexer": "ipython3",
   "version": "3.10.0"
  }
 },
 "nbformat": 4,
 "nbformat_minor": 4
}
