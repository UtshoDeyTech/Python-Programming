{
 "cells": [
  {
   "cell_type": "markdown",
   "metadata": {
    "tags": []
   },
   "source": [
    "# Random Numbers in NumPy"
   ]
  },
  {
   "cell_type": "code",
   "execution_count": 4,
   "metadata": {},
   "outputs": [],
   "source": [
    "from numpy import random"
   ]
  },
  {
   "cell_type": "code",
   "execution_count": 8,
   "metadata": {},
   "outputs": [
    {
     "name": "stdout",
     "output_type": "stream",
     "text": [
      "18\n"
     ]
    }
   ],
   "source": [
    "x = random.randint(100)\n",
    "# Generate a random integer from 0 to 100:\n",
    "print(x)"
   ]
  },
  {
   "cell_type": "code",
   "execution_count": 9,
   "metadata": {},
   "outputs": [
    {
     "name": "stdout",
     "output_type": "stream",
     "text": [
      "0.8068936287840797\n"
     ]
    }
   ],
   "source": [
    "x = random.rand()\n",
    "# Generate a random float from 0 to 1:\n",
    "print(x)"
   ]
  },
  {
   "cell_type": "code",
   "execution_count": 11,
   "metadata": {},
   "outputs": [
    {
     "name": "stdout",
     "output_type": "stream",
     "text": [
      "[39 11 68 32 12]\n"
     ]
    }
   ],
   "source": [
    "x=random.randint(100, size=(5))\n",
    "# Generate a 1-D array containing 5 random integers from 0 to 100:\n",
    "print(x)"
   ]
  },
  {
   "cell_type": "code",
   "execution_count": 12,
   "metadata": {},
   "outputs": [
    {
     "name": "stdout",
     "output_type": "stream",
     "text": [
      "[[27 73 55  1 85]\n",
      " [77 54 58 52  6]\n",
      " [84 23 77  6 23]]\n"
     ]
    }
   ],
   "source": [
    "x = random.randint(100, size=(3, 5))\n",
    "# Generate a 2-D array with 3 rows, each row containing 5 random integers from 0 to 100:\n",
    "print(x)"
   ]
  },
  {
   "cell_type": "code",
   "execution_count": 13,
   "metadata": {},
   "outputs": [
    {
     "name": "stdout",
     "output_type": "stream",
     "text": [
      "[0.3617855  0.3146708  0.65330222 0.20177156 0.9920235 ]\n"
     ]
    }
   ],
   "source": [
    "x = random.rand(5)\n",
    "# Generate a 1-D array containing 5 random floats:\n",
    "print(x)"
   ]
  },
  {
   "cell_type": "code",
   "execution_count": 14,
   "metadata": {},
   "outputs": [
    {
     "name": "stdout",
     "output_type": "stream",
     "text": [
      "[[0.14335021 0.20215725 0.45680408 0.37041544 0.55303736]\n",
      " [0.45652609 0.78998073 0.52071316 0.9733598  0.5170296 ]\n",
      " [0.9897563  0.32744332 0.31264155 0.72011672 0.22272593]]\n"
     ]
    }
   ],
   "source": [
    "x = random.rand(3, 5)\n",
    "# Generate a 2-D array with 3 rows, each row containing 5 random numbers:\n",
    "print(x)"
   ]
  },
  {
   "cell_type": "code",
   "execution_count": 15,
   "metadata": {},
   "outputs": [
    {
     "name": "stdout",
     "output_type": "stream",
     "text": [
      "5\n"
     ]
    }
   ],
   "source": [
    "x = random.choice([3, 5, 7, 9])\n",
    "# The choice() method allows you to generate a random value based on an array of values.\n",
    "# The choice() method takes an array as a parameter and randomly returns one of the values.\n",
    "print(x)"
   ]
  },
  {
   "cell_type": "code",
   "execution_count": 16,
   "metadata": {},
   "outputs": [
    {
     "name": "stdout",
     "output_type": "stream",
     "text": [
      "[[3 5 5 9 3]\n",
      " [7 7 5 5 3]\n",
      " [3 7 9 5 3]]\n"
     ]
    }
   ],
   "source": [
    "x = random.choice([3, 5, 7, 9], size=(3, 5))\n",
    "# Generate a 2-D array that consists of the values in the array parameter (3, 5, 7, and 9):\n",
    "print(x)"
   ]
  },
  {
   "cell_type": "markdown",
   "metadata": {},
   "source": [
    "# Random Data Distribution"
   ]
  },
  {
   "cell_type": "code",
   "execution_count": 5,
   "metadata": {},
   "outputs": [
    {
     "name": "stdout",
     "output_type": "stream",
     "text": [
      "[5 5 7 5 7 7 5 7 7 7 7 5 7 5 5 7 5 7 5 7 5 5 5 5 7 7 5 5 3 7 5 3 7 5 7 7 5\n",
      " 7 7 5 5 3 7 7 5 7 7 5 5 7 7 7 7 7 3 7 7 7 7 5 7 5 5 5 7 7 7 3 3 5 3 7 7 5\n",
      " 5 7 7 7 7 7 5 7 3 7 5 7 7 7 5 5 7 3 7 3 5 3 3 5 7 5]\n"
     ]
    }
   ],
   "source": [
    "x = random.choice([3, 5, 7, 9], p=[0.1, 0.3, 0.6, 0.0], size=(100))\n",
    "print(x)"
   ]
  },
  {
   "cell_type": "code",
   "execution_count": 7,
   "metadata": {},
   "outputs": [
    {
     "name": "stdout",
     "output_type": "stream",
     "text": [
      "[[7 7 5 5 7]\n",
      " [5 7 7 5 7]\n",
      " [3 5 7 7 3]]\n"
     ]
    }
   ],
   "source": [
    "x = random.choice([3, 5, 7, 9], p=[0.1, 0.3, 0.6, 0.0], size=(3, 5)) # size (3,5) means 3 rows & 5 columns\n",
    "\n",
    "print(x)"
   ]
  },
  {
   "cell_type": "code",
   "execution_count": null,
   "metadata": {},
   "outputs": [],
   "source": []
  }
 ],
 "metadata": {
  "kernelspec": {
   "display_name": "pyKernel",
   "language": "python",
   "name": "pykernel"
  },
  "language_info": {
   "codemirror_mode": {
    "name": "ipython",
    "version": 3
   },
   "file_extension": ".py",
   "mimetype": "text/x-python",
   "name": "python",
   "nbconvert_exporter": "python",
   "pygments_lexer": "ipython3",
   "version": "3.9.13"
  },
  "vscode": {
   "interpreter": {
    "hash": "443a60591c70f7f837290e63334a20afa2f72cd779ea4e09195a678df9a680ef"
   }
  }
 },
 "nbformat": 4,
 "nbformat_minor": 4
}
