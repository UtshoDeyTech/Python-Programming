{
 "cells": [
  {
   "cell_type": "code",
   "execution_count": 1,
   "id": "47b7f6ea-50fd-4fe7-ade6-4891319fc41c",
   "metadata": {
    "tags": []
   },
   "outputs": [],
   "source": [
    "class ArrayStack:\n",
    "    def __init__(self):\n",
    "        self.items = []\n",
    "    \n",
    "    def is_empty(self):\n",
    "        return len(self.items) == 0\n",
    "    \n",
    "    def push(self, item):\n",
    "        self.items.append(item)\n",
    "    \n",
    "    def pop(self):\n",
    "        if not self.is_empty():\n",
    "            return self.items.pop()\n",
    "    \n",
    "    def peek(self):\n",
    "        if not self.is_empty():\n",
    "            return self.items[-1]\n",
    "    \n",
    "    def size(self):\n",
    "        return len(self.items)\n"
   ]
  },
  {
   "cell_type": "code",
   "execution_count": 2,
   "id": "dcaa77f7-9660-4e77-a124-b24e4925b459",
   "metadata": {
    "tags": []
   },
   "outputs": [
    {
     "name": "stdout",
     "output_type": "stream",
     "text": [
      "Stack size: 5\n",
      "Top item of stack: 5\n",
      "Popped item: 5\n",
      "Is the stack empty? False\n"
     ]
    }
   ],
   "source": [
    "stack = ArrayStack()\n",
    "\n",
    "# push items onto the stack\n",
    "stack.push(1)\n",
    "stack.push(2)\n",
    "stack.push(3)\n",
    "stack.push(4)\n",
    "stack.push(5)\n",
    "\n",
    "# check the size of the stack\n",
    "print(\"Stack size:\", stack.size())\n",
    "\n",
    "# peek at the top item of the stack\n",
    "top_item = stack.peek()\n",
    "print(\"Top item of stack:\", top_item)\n",
    "\n",
    "# pop items off the stack\n",
    "popped_item = stack.pop()\n",
    "print(\"Popped item:\", popped_item)\n",
    "\n",
    "# check if the stack is empty\n",
    "is_empty = stack.is_empty()\n",
    "print(\"Is the stack empty?\", is_empty)\n",
    "\n",
    "# clear the stack\n",
    "stack = ArrayStack()\n"
   ]
  },
  {
   "cell_type": "code",
   "execution_count": null,
   "id": "ae70c5bc-5f42-4cbf-b9b7-3f0fc452436b",
   "metadata": {},
   "outputs": [],
   "source": []
  }
 ],
 "metadata": {
  "kernelspec": {
   "display_name": "py",
   "language": "python",
   "name": "py"
  },
  "language_info": {
   "codemirror_mode": {
    "name": "ipython",
    "version": 3
   },
   "file_extension": ".py",
   "mimetype": "text/x-python",
   "name": "python",
   "nbconvert_exporter": "python",
   "pygments_lexer": "ipython3",
   "version": "3.10.9"
  }
 },
 "nbformat": 4,
 "nbformat_minor": 5
}
