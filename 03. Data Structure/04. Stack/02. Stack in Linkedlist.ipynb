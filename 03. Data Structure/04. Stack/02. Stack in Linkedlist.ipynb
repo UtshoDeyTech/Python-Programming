{
 "cells": [
  {
   "cell_type": "code",
   "execution_count": 1,
   "id": "140b0ad1-d566-48e2-a5a8-246b4b293b00",
   "metadata": {},
   "outputs": [],
   "source": [
    "class Node:\n",
    "    def __init__(self, data=None):\n",
    "        self.data = data\n",
    "        self.next = None\n"
   ]
  },
  {
   "cell_type": "code",
   "execution_count": 2,
   "id": "7e4ea658-eb4b-433c-b525-5000292a0d82",
   "metadata": {
    "tags": []
   },
   "outputs": [],
   "source": [
    "class LinkedListStack:\n",
    "    def __init__(self):\n",
    "        self.top = None\n",
    "        self.size = 0\n",
    "\n",
    "    def push(self, data):\n",
    "        new_node = Node(data)\n",
    "        if not self.top:\n",
    "            self.top = new_node\n",
    "        else:\n",
    "            new_node.next = self.top\n",
    "            self.top = new_node\n",
    "        self.size += 1\n",
    "\n",
    "    def pop(self):\n",
    "        if not self.top:\n",
    "            return None\n",
    "        else:\n",
    "            popped_node = self.top\n",
    "            self.top = popped_node.next\n",
    "            popped_node.next = None\n",
    "            self.size -= 1\n",
    "            return popped_node.data\n",
    "\n",
    "    def peek(self):\n",
    "        if not self.top:\n",
    "            return None\n",
    "        else:\n",
    "            return self.top.data\n",
    "\n",
    "    def is_empty(self):\n",
    "        return self.top is None\n",
    "\n",
    "    def get_size(self):\n",
    "        return self.size\n"
   ]
  },
  {
   "cell_type": "code",
   "execution_count": 3,
   "id": "671dd3b4-1946-4210-8733-f24239bf41d2",
   "metadata": {
    "tags": []
   },
   "outputs": [
    {
     "name": "stdout",
     "output_type": "stream",
     "text": [
      "Is the stack empty? False\n",
      "Top item on the stack: 5\n",
      "Stack size: 5\n",
      "Popped item: 5\n",
      "Is the stack empty? False\n",
      "Top item on the stack: 4\n",
      "Stack size: 4\n"
     ]
    }
   ],
   "source": [
    "stack = LinkedListStack()\n",
    "\n",
    "stack.push(1)\n",
    "stack.push(2)\n",
    "stack.push(3)\n",
    "stack.push(4)\n",
    "stack.push(5)\n",
    "\n",
    "print(\"Is the stack empty?\", stack.is_empty())\n",
    "print(\"Top item on the stack:\", stack.peek())\n",
    "print(\"Stack size:\", stack.get_size())\n",
    "\n",
    "popped_item = stack.pop()\n",
    "print(\"Popped item:\", popped_item)\n",
    "\n",
    "print(\"Is the stack empty?\", stack.is_empty())\n",
    "print(\"Top item on the stack:\", stack.peek())\n",
    "print(\"Stack size:\", stack.get_size())\n"
   ]
  },
  {
   "cell_type": "code",
   "execution_count": null,
   "id": "abb12683-9156-4eea-b362-c130af499b40",
   "metadata": {},
   "outputs": [],
   "source": []
  }
 ],
 "metadata": {
  "kernelspec": {
   "display_name": "py",
   "language": "python",
   "name": "py"
  },
  "language_info": {
   "codemirror_mode": {
    "name": "ipython",
    "version": 3
   },
   "file_extension": ".py",
   "mimetype": "text/x-python",
   "name": "python",
   "nbconvert_exporter": "python",
   "pygments_lexer": "ipython3",
   "version": "3.10.9"
  }
 },
 "nbformat": 4,
 "nbformat_minor": 5
}
