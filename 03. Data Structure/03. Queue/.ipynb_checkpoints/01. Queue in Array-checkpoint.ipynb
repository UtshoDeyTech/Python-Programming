{
 "cells": [
  {
   "cell_type": "code",
   "execution_count": 5,
   "id": "c7a9a0b1-b151-4aed-91f0-243a69ae2c06",
   "metadata": {
    "tags": []
   },
   "outputs": [],
   "source": [
    "class ArrayQueue:\n",
    "    def __init__(self):\n",
    "        self.items = []\n",
    "        self.front = 0\n",
    "        self.size = 0\n",
    "    \n",
    "    def is_empty(self):\n",
    "        return self.size == 0\n",
    "    \n",
    "    def enqueue(self, item):\n",
    "        self.items.append(item)\n",
    "        self.size += 1\n",
    "    \n",
    "    def dequeue(self):\n",
    "        if self.is_empty():\n",
    "            raise Exception(\"Queue is empty\")\n",
    "        else:\n",
    "            self.size -= 1\n",
    "            item = self.items[self.front]\n",
    "            self.front += 1\n",
    "            return item\n",
    "    \n",
    "    def item_index(self, item):\n",
    "        if self.is_empty():\n",
    "            raise Exception(\"Queue is empty\")\n",
    "        else:\n",
    "            for i in range(self.front, len(self.items)):\n",
    "                if self.items[i] == item:\n",
    "                    return i\n",
    "            raise Exception(\"Item not found\")\n",
    "    \n",
    "    def clear(self):\n",
    "        self.items = []\n",
    "        self.front = 0\n",
    "        self.size = 0\n"
   ]
  },
  {
   "cell_type": "code",
   "execution_count": 6,
   "id": "e5afa890-97ab-4eff-abf0-878797a251ac",
   "metadata": {
    "tags": []
   },
   "outputs": [
    {
     "name": "stdout",
     "output_type": "stream",
     "text": [
      "Queue: <__main__.ArrayQueue object at 0x00000294F78F3790>\n",
      "Dequeued item: 10\n",
      "Queue: <__main__.ArrayQueue object at 0x00000294F78F3790>\n",
      "Queue size: 4\n",
      "Is the queue empty? False\n"
     ]
    },
    {
     "ename": "TypeError",
     "evalue": "'int' object is not callable",
     "output_type": "error",
     "traceback": [
      "\u001b[1;31m---------------------------------------------------------------------------\u001b[0m",
      "\u001b[1;31mTypeError\u001b[0m                                 Traceback (most recent call last)",
      "Cell \u001b[1;32mIn[6], line 29\u001b[0m\n\u001b[0;32m     26\u001b[0m \u001b[38;5;28mprint\u001b[39m(\u001b[38;5;124m\"\u001b[39m\u001b[38;5;124mIs the queue empty?\u001b[39m\u001b[38;5;124m\"\u001b[39m, is_empty)\n\u001b[0;32m     28\u001b[0m \u001b[38;5;66;03m# get the front item of the queue\u001b[39;00m\n\u001b[1;32m---> 29\u001b[0m front_item \u001b[38;5;241m=\u001b[39m \u001b[43mqueue\u001b[49m\u001b[38;5;241;43m.\u001b[39;49m\u001b[43mfront\u001b[49m\u001b[43m(\u001b[49m\u001b[43m)\u001b[49m\n\u001b[0;32m     30\u001b[0m \u001b[38;5;28mprint\u001b[39m(\u001b[38;5;124m\"\u001b[39m\u001b[38;5;124mFront item:\u001b[39m\u001b[38;5;124m\"\u001b[39m, front_item)\n\u001b[0;32m     32\u001b[0m \u001b[38;5;66;03m# clear the queue\u001b[39;00m\n",
      "\u001b[1;31mTypeError\u001b[0m: 'int' object is not callable"
     ]
    }
   ],
   "source": [
    "# create an array queue\n",
    "queue = ArrayQueue()\n",
    "\n",
    "# add some items to the queue\n",
    "queue.enqueue(10)\n",
    "queue.enqueue(20)\n",
    "queue.enqueue(30)\n",
    "queue.enqueue(40)\n",
    "\n",
    "# print the queue\n",
    "print(\"Queue:\", queue)\n",
    "\n",
    "# dequeue an item\n",
    "item = queue.dequeue()\n",
    "print(\"Dequeued item:\", item)\n",
    "\n",
    "# print the queue\n",
    "print(\"Queue:\", queue)\n",
    "\n",
    "# get the size of the queue\n",
    "size = queue.size()\n",
    "print(\"Queue size:\", size)\n",
    "\n",
    "# check if the queue is empty\n",
    "is_empty = queue.is_empty()\n",
    "print(\"Is the queue empty?\", is_empty)\n",
    "\n",
    "# get the front item of the queue\n",
    "front_item = queue.front()\n",
    "print(\"Front item:\", front_item)\n",
    "\n",
    "# clear the queue\n",
    "queue.clear()\n",
    "print(\"Cleared queue:\", queue)\n"
   ]
  },
  {
   "cell_type": "code",
   "execution_count": null,
   "id": "530e2a58-fe4e-4d65-a96f-5b3359f4c5ed",
   "metadata": {},
   "outputs": [],
   "source": []
  }
 ],
 "metadata": {
  "kernelspec": {
   "display_name": "py",
   "language": "python",
   "name": "py"
  },
  "language_info": {
   "codemirror_mode": {
    "name": "ipython",
    "version": 3
   },
   "file_extension": ".py",
   "mimetype": "text/x-python",
   "name": "python",
   "nbconvert_exporter": "python",
   "pygments_lexer": "ipython3",
   "version": "3.10.9"
  }
 },
 "nbformat": 4,
 "nbformat_minor": 5
}
