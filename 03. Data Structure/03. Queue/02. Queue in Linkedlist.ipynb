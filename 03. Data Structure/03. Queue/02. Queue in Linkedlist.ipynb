{
 "cells": [
  {
   "cell_type": "code",
   "execution_count": 2,
   "id": "67c0b640-65b1-4adf-bdeb-dd8fe9f5c583",
   "metadata": {
    "tags": []
   },
   "outputs": [],
   "source": [
    "class Node:\n",
    "    def __init__(self, data):\n",
    "        self.data = data\n",
    "        self.next = None\n"
   ]
  },
  {
   "cell_type": "code",
   "execution_count": 3,
   "id": "db2e9afa-9188-430f-9548-45d45e62b4fa",
   "metadata": {
    "tags": []
   },
   "outputs": [],
   "source": [
    "class LinkedListQueue:\n",
    "    def __init__(self):\n",
    "        self.head = None\n",
    "        self.tail = None\n",
    "    \n",
    "    def is_empty(self):\n",
    "        return self.head is None\n",
    "    \n",
    "    def enqueue(self, data):\n",
    "        new_node = Node(data)\n",
    "        if self.is_empty():\n",
    "            self.head = new_node\n",
    "            self.tail = new_node\n",
    "        else:\n",
    "            self.tail.next = new_node\n",
    "            self.tail = new_node\n",
    "    \n",
    "    def dequeue(self):\n",
    "        if self.is_empty():\n",
    "            return None\n",
    "        else:\n",
    "            removed_node = self.head\n",
    "            self.head = self.head.next\n",
    "            if self.head is None:\n",
    "                self.tail = None\n",
    "            return removed_node.data\n",
    "    \n",
    "    def front(self):\n",
    "        if self.is_empty():\n",
    "            return None\n",
    "        else:\n",
    "            return self.head.data\n",
    "    \n",
    "    def size(self):\n",
    "        count = 0\n",
    "        current = self.head\n",
    "        while current is not None:\n",
    "            count += 1\n",
    "            current = current.next\n",
    "        return count\n",
    "    \n",
    "    def clear(self):\n",
    "        self.head = None\n",
    "        self.tail = None\n"
   ]
  },
  {
   "cell_type": "code",
   "execution_count": 4,
   "id": "e4e0f065-4465-4e55-b657-e2594fee980c",
   "metadata": {
    "tags": []
   },
   "outputs": [
    {
     "name": "stdout",
     "output_type": "stream",
     "text": [
      "Is the queue empty? False\n",
      "Front item: 10\n",
      "Removed item: 10\n",
      "Queue size: 3\n",
      "Is the queue empty? True\n"
     ]
    }
   ],
   "source": [
    "queue = LinkedListQueue()\n",
    "\n",
    "# add some items to the queue\n",
    "queue.enqueue(10)\n",
    "queue.enqueue(20)\n",
    "queue.enqueue(30)\n",
    "queue.enqueue(40)\n",
    "\n",
    "# check if the queue is empty\n",
    "is_empty = queue.is_empty()\n",
    "print(\"Is the queue empty?\", is_empty)\n",
    "\n",
    "# get the front item of the queue\n",
    "front_item = queue.front()\n",
    "print(\"Front item:\", front_item)\n",
    "\n",
    "# remove an item from the queue\n",
    "removed_item = queue.dequeue()\n",
    "print(\"Removed item:\", removed_item)\n",
    "\n",
    "# check the size of the queue\n",
    "queue_size = queue.size()\n",
    "print(\"Queue size:\", queue_size)\n",
    "\n",
    "# clear the queue\n",
    "queue.clear()\n",
    "is_empty = queue.is_empty()\n",
    "print(\"Is the queue empty?\", is_empty)\n"
   ]
  },
  {
   "cell_type": "code",
   "execution_count": null,
   "id": "e6c76f12-ec09-487f-8f96-1ee75e749760",
   "metadata": {},
   "outputs": [],
   "source": []
  }
 ],
 "metadata": {
  "kernelspec": {
   "display_name": "py",
   "language": "python",
   "name": "py"
  },
  "language_info": {
   "codemirror_mode": {
    "name": "ipython",
    "version": 3
   },
   "file_extension": ".py",
   "mimetype": "text/x-python",
   "name": "python",
   "nbconvert_exporter": "python",
   "pygments_lexer": "ipython3",
   "version": "3.10.9"
  }
 },
 "nbformat": 4,
 "nbformat_minor": 5
}
