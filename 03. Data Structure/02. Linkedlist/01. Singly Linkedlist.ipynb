{
 "cells": [
  {
   "cell_type": "code",
   "execution_count": 1,
   "id": "3dc093f0-cae6-4a72-8c8a-5cdc4e3b03bf",
   "metadata": {},
   "outputs": [],
   "source": [
    "class Node:\n",
    "    def __init__(self, data=None, next_node=None):\n",
    "        self.data = data\n",
    "        self.next_node = next_node\n"
   ]
  },
  {
   "cell_type": "code",
   "execution_count": 2,
   "id": "c57f0939-78b2-469d-9e21-13687bdff374",
   "metadata": {},
   "outputs": [],
   "source": [
    "class LinkedList:\n",
    "    def __init__(self):\n",
    "        self.head = None\n",
    "\n",
    "    # Add item to end of list\n",
    "    def add_item(self, data):\n",
    "        new_node = Node(data)\n",
    "        if self.head is None:\n",
    "            self.head = new_node\n",
    "        else:\n",
    "            current_node = self.head\n",
    "            while current_node.next_node is not None:\n",
    "                current_node = current_node.next_node\n",
    "            current_node.next_node = new_node\n",
    "\n",
    "    # Remove item from list\n",
    "    def remove_item(self, data):\n",
    "        current_node = self.head\n",
    "        previous_node = None\n",
    "        while current_node and current_node.data != data:\n",
    "            previous_node = current_node\n",
    "            current_node = current_node.next_node\n",
    "        if not current_node:\n",
    "            return\n",
    "        if not previous_node:\n",
    "            self.head = current_node.next_node\n",
    "        else:\n",
    "            previous_node.next_node = current_node.next_node\n",
    "\n",
    "    # Return index of item in list\n",
    "    def item_index(self, data):\n",
    "        current_node = self.head\n",
    "        index = 0\n",
    "        while current_node:\n",
    "            if current_node.data == data:\n",
    "                return index\n",
    "            current_node = current_node.next_node\n",
    "            index += 1\n",
    "        return -1\n",
    "\n",
    "    # Return size of list\n",
    "    def size(self):\n",
    "        current_node = self.head\n",
    "        count = 0\n",
    "        while current_node:\n",
    "            count += 1\n",
    "            current_node = current_node.next_node\n",
    "        return count\n",
    "\n",
    "    # Return whether list is empty\n",
    "    def is_empty(self):\n",
    "        return not self.head\n",
    "\n",
    "    # Clear list\n",
    "    def clear(self):\n",
    "        self.head = None\n",
    "\n",
    "    # Return string representation of list\n",
    "    def __str__(self):\n",
    "        current_node = self.head\n",
    "        str_list = []\n",
    "        while current_node:\n",
    "            str_list.append(str(current_node.data))\n",
    "            current_node = current_node.next_node\n",
    "        return ' -> '.join(str_list)\n"
   ]
  },
  {
   "cell_type": "code",
   "execution_count": 3,
   "id": "bc2a6b7d-5221-4977-a18d-76ad68f7cc69",
   "metadata": {
    "tags": []
   },
   "outputs": [
    {
     "name": "stdout",
     "output_type": "stream",
     "text": [
      "a -> b -> c -> d\n",
      "a -> b -> d\n",
      "1\n",
      "3\n",
      "False\n",
      "True\n"
     ]
    }
   ],
   "source": [
    "# Create linked list object\n",
    "my_list = LinkedList()\n",
    "\n",
    "# Add items\n",
    "my_list.add_item('a')\n",
    "my_list.add_item('b')\n",
    "my_list.add_item('c')\n",
    "my_list.add_item('d')\n",
    "\n",
    "# Print list\n",
    "print(my_list)  # Output: a -> b -> c -> d\n",
    "\n",
    "# Remove item\n",
    "my_list.remove_item('c')\n",
    "\n",
    "# Print list\n",
    "print(my_list)  # Output: a -> b -> d\n",
    "\n",
    "# Get index of item\n",
    "print(my_list.item_index('b'))  # Output: 1\n",
    "\n",
    "# Get size of list\n",
    "print(my_list.size())  # Output: 3\n",
    "\n",
    "# Check if list is empty\n",
    "print(my_list.is_empty())  # Output: False\n",
    "\n",
    "# Clear list\n",
    "my_list.clear()\n",
    "\n",
    "# Check if list is empty\n",
    "print(my_list.is_empty())  # Output: True"
   ]
  }
 ],
 "metadata": {
  "kernelspec": {
   "display_name": "py",
   "language": "python",
   "name": "py"
  },
  "language_info": {
   "codemirror_mode": {
    "name": "ipython",
    "version": 3
   },
   "file_extension": ".py",
   "mimetype": "text/x-python",
   "name": "python",
   "nbconvert_exporter": "python",
   "pygments_lexer": "ipython3",
   "version": "3.10.9"
  }
 },
 "nbformat": 4,
 "nbformat_minor": 5
}
