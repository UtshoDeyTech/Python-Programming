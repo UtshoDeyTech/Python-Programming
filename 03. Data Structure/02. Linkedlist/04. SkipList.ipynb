{
 "cells": [
  {
   "cell_type": "code",
   "execution_count": 1,
   "metadata": {},
   "outputs": [],
   "source": [
    "import random"
   ]
  },
  {
   "cell_type": "code",
   "execution_count": 2,
   "metadata": {},
   "outputs": [],
   "source": [
    "class Node:\n",
    "    def __init__(self, key, level):\n",
    "        self.key = key\n",
    "        self.forward = [None] * (level + 1)"
   ]
  },
  {
   "cell_type": "code",
   "execution_count": 3,
   "metadata": {},
   "outputs": [],
   "source": [
    "class SkipList:\n",
    "    def __init__(self, max_level):\n",
    "        self.max_level = max_level\n",
    "        self.header = self.create_node(float('-inf'), max_level)\n",
    "        self.level = 0\n",
    "\n",
    "    def create_node(self, key, level):\n",
    "        return Node(key, level)\n",
    "\n",
    "    def random_level(self):\n",
    "        level = 0\n",
    "        while random.random() < 0.5 and level < self.max_level:\n",
    "            level += 1\n",
    "        return level\n",
    "\n",
    "    def insert(self, key):\n",
    "        update = [None] * (self.max_level + 1)\n",
    "        current = self.header\n",
    "\n",
    "        for i in range(self.level, -1, -1):\n",
    "            while current.forward[i] and current.forward[i].key < key:\n",
    "                current = current.forward[i]\n",
    "            update[i] = current\n",
    "\n",
    "        new_level = self.random_level()\n",
    "\n",
    "        if new_level > self.level:\n",
    "            for i in range(self.level + 1, new_level + 1):\n",
    "                update[i] = self.header\n",
    "            self.level = new_level\n",
    "\n",
    "        new_node = self.create_node(key, new_level)\n",
    "\n",
    "        for i in range(new_level + 1):\n",
    "            new_node.forward[i] = update[i].forward[i]\n",
    "            update[i].forward[i] = new_node\n",
    "\n",
    "    def search(self, key):\n",
    "        current = self.header\n",
    "\n",
    "        for i in range(self.level, -1, -1):\n",
    "            while current.forward[i] and current.forward[i].key < key:\n",
    "                current = current.forward[i]\n",
    "\n",
    "        current = current.forward[0]\n",
    "\n",
    "        if current and current.key == key:\n",
    "            return True\n",
    "        return False\n",
    "\n",
    "    def delete(self, key):\n",
    "        update = [None] * (self.max_level + 1)\n",
    "        current = self.header\n",
    "\n",
    "        for i in range(self.level, -1, -1):\n",
    "            while current.forward[i] and current.forward[i].key < key:\n",
    "                current = current.forward[i]\n",
    "            update[i] = current\n",
    "\n",
    "        current = current.forward[0]\n",
    "\n",
    "        if current and current.key == key:\n",
    "            for i in range(self.level + 1):\n",
    "                if update[i].forward[i] != current:\n",
    "                    break\n",
    "                update[i].forward[i] = current.forward[i]\n",
    "\n",
    "            while self.level > 0 and self.header.forward[self.level] is None:\n",
    "                self.level -= 1\n",
    "\n",
    "    def reverse(self):\n",
    "        prev = None\n",
    "        current = self.header\n",
    "\n",
    "        while current:\n",
    "            current.forward.reverse()\n",
    "            current, prev = current.forward[0], current\n",
    "\n",
    "        self.header = prev"
   ]
  },
  {
   "cell_type": "code",
   "execution_count": 4,
   "metadata": {},
   "outputs": [
    {
     "name": "stdout",
     "output_type": "stream",
     "text": [
      "True\n",
      "False\n",
      "True\n"
     ]
    }
   ],
   "source": [
    "# Test cases\n",
    "skip_list = SkipList(max_level=4)\n",
    "\n",
    "# Insertion\n",
    "skip_list.insert(3)\n",
    "skip_list.insert(6)\n",
    "skip_list.insert(7)\n",
    "skip_list.insert(9)\n",
    "print(skip_list.search(6))  # True\n",
    "\n",
    "# Deletion\n",
    "skip_list.delete(6)\n",
    "print(skip_list.search(6))  # False\n",
    "\n",
    "# Reverse\n",
    "skip_list.reverse()\n",
    "print(skip_list.search(9))  # True"
   ]
  },
  {
   "cell_type": "code",
   "execution_count": null,
   "metadata": {},
   "outputs": [],
   "source": []
  }
 ],
 "metadata": {
  "kernelspec": {
   "display_name": "py",
   "language": "python",
   "name": "python3"
  },
  "language_info": {
   "codemirror_mode": {
    "name": "ipython",
    "version": 3
   },
   "file_extension": ".py",
   "mimetype": "text/x-python",
   "name": "python",
   "nbconvert_exporter": "python",
   "pygments_lexer": "ipython3",
   "version": "3.10.9"
  }
 },
 "nbformat": 4,
 "nbformat_minor": 2
}
