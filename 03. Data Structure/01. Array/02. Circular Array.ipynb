{
 "cells": [
  {
   "cell_type": "code",
   "execution_count": 4,
   "id": "e928ad29-1378-418a-9ac8-d115fbcd5822",
   "metadata": {
    "tags": []
   },
   "outputs": [],
   "source": [
    "class CircularArray:\n",
    "    def __init__(self, capacity):\n",
    "        self.capacity = capacity\n",
    "        self.arr = [None] * capacity\n",
    "        self.size = 0\n",
    "        self.front = 0\n",
    "        self.rear = 0\n",
    "\n",
    "    def is_empty(self):\n",
    "        return self.size == 0\n",
    "\n",
    "    def is_full(self):\n",
    "        return self.size == self.capacity\n",
    "\n",
    "    def add_item(self, item):\n",
    "        if self.is_full():\n",
    "            return False\n",
    "        self.arr[self.rear] = item\n",
    "        self.rear = (self.rear + 1) % self.capacity\n",
    "        self.size += 1\n",
    "        return True\n",
    "\n",
    "    def remove_item(self, item):\n",
    "        if self.is_empty():\n",
    "            return False\n",
    "        index = self.item_index(item)\n",
    "        if index is None:\n",
    "            return False\n",
    "        self.arr[index] = None\n",
    "        self.size -= 1\n",
    "        return True\n",
    "\n",
    "    def item_index(self, item):\n",
    "        for i in range(self.size):\n",
    "            index = (self.front + i) % self.capacity\n",
    "            if self.arr[index] == item:\n",
    "                return index\n",
    "        return None\n",
    "\n",
    "    def get(self, index):\n",
    "        if index < 0 or index >= self.size:\n",
    "            return None\n",
    "        return self.arr[(self.front + index) % self.capacity]\n",
    "\n",
    "    def set(self, index, item):\n",
    "        if index < 0 or index >= self.size:\n",
    "            return False\n",
    "        self.arr[(self.front + index) % self.capacity] = item\n",
    "        return True\n",
    "\n",
    "    def clear(self):\n",
    "        self.arr = [None] * self.capacity\n",
    "        self.size = 0\n",
    "        self.front = 0\n",
    "        self.rear = 0\n",
    "\n",
    "    def __str__(self):\n",
    "        if self.is_empty():\n",
    "            return \"[]\"\n",
    "        s = \"[\"\n",
    "        for i in range(self.size - 1):\n",
    "            index = (self.front + i) % self.capacity\n",
    "            s += str(self.arr[index]) + \", \"\n",
    "        s += str(self.arr[self.rear - 1]) + \"]\"\n",
    "        return s\n"
   ]
  },
  {
   "cell_type": "code",
   "execution_count": 5,
   "id": "311f6d07-7f62-4a1d-b494-f41f404f77ee",
   "metadata": {
    "tags": []
   },
   "outputs": [
    {
     "name": "stdout",
     "output_type": "stream",
     "text": [
      "Initial array: [1, 2, 3, 4, 5]\n",
      "Array after removing 3: [1, 2, None, 5]\n",
      "Index of 4: 3\n",
      "Item at index 2: None\n",
      "Array after setting index 2 to 6: [1, 2, 6, 5]\n",
      "Array after clearing: []\n"
     ]
    }
   ],
   "source": [
    "# Sample usage\n",
    "arr = CircularArray(5)\n",
    "arr.add_item(1)\n",
    "arr.add_item(2)\n",
    "arr.add_item(3)\n",
    "arr.add_item(4)\n",
    "arr.add_item(5)\n",
    "\n",
    "print(\"Initial array:\", arr)  # [1, 2, 3, 4, 5]\n",
    "\n",
    "arr.remove_item(3)\n",
    "print(\"Array after removing 3:\", arr)  # [1, 2, None, 4, 5]\n",
    "\n",
    "print(\"Index of 4:\", arr.item_index(4))  # 3\n",
    "\n",
    "print(\"Item at index 2:\", arr.get(2))  # None (out of bounds)\n",
    "\n",
    "arr.set(2, 6)\n",
    "print(\"Array after setting index 2 to 6:\", arr)  # [1, 2, 6, 4, 5]\n",
    "\n",
    "arr.clear()\n",
    "print(\"Array after clearing:\", arr)  # []"
   ]
  },
  {
   "cell_type": "code",
   "execution_count": null,
   "id": "00798c70-a6f7-4ddf-ba76-474dc217d9b6",
   "metadata": {},
   "outputs": [],
   "source": []
  }
 ],
 "metadata": {
  "kernelspec": {
   "display_name": "py",
   "language": "python",
   "name": "py"
  },
  "language_info": {
   "codemirror_mode": {
    "name": "ipython",
    "version": 3
   },
   "file_extension": ".py",
   "mimetype": "text/x-python",
   "name": "python",
   "nbconvert_exporter": "python",
   "pygments_lexer": "ipython3",
   "version": "3.10.9"
  }
 },
 "nbformat": 4,
 "nbformat_minor": 5
}
