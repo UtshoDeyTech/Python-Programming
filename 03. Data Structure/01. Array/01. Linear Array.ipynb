{
 "cells": [
  {
   "cell_type": "code",
   "execution_count": 1,
   "id": "31bfdbb7-693f-4efd-b5ac-cb2955e85dee",
   "metadata": {
    "tags": []
   },
   "outputs": [],
   "source": [
    "class LinearArray:\n",
    "    def __init__(self):\n",
    "        self.array = []\n",
    "    \n",
    "    def add_item(self, item, position=None):\n",
    "        if position is None:\n",
    "            self.array.append(item)\n",
    "        else:\n",
    "            self.array.insert(position, item)\n",
    "    \n",
    "    def remove_item(self, item):\n",
    "        self.array.remove(item)\n",
    "    \n",
    "    def item_index(self, item):\n",
    "        return self.array.index(item)\n",
    "    \n",
    "    def size(self):\n",
    "        return len(self.array)\n",
    "    \n",
    "    def is_empty(self):\n",
    "        return len(self.array) == 0\n",
    "    \n",
    "    def clear(self):\n",
    "        self.array.clear()\n",
    "    \n",
    "    def print_array(self):\n",
    "        print(self.array)\n"
   ]
  },
  {
   "cell_type": "code",
   "execution_count": 2,
   "id": "1d073ed2-6780-4d87-8321-b53ad3414fe3",
   "metadata": {
    "tags": []
   },
   "outputs": [
    {
     "name": "stdout",
     "output_type": "stream",
     "text": [
      "[10, 30, 20]\n",
      "[10, 30]\n",
      "1\n",
      "2\n",
      "False\n",
      "True\n"
     ]
    }
   ],
   "source": [
    "arr = LinearArray()\n",
    "\n",
    "arr.add_item(10)\n",
    "arr.add_item(20)\n",
    "arr.add_item(30, 1)\n",
    "arr.print_array() # Output: [10, 30, 20]\n",
    "\n",
    "arr.remove_item(20)\n",
    "arr.print_array() # Output: [10, 30]\n",
    "\n",
    "print(arr.item_index(30)) # Output: 1\n",
    "\n",
    "print(arr.size()) # Output: 2\n",
    "\n",
    "print(arr.is_empty()) # Output: False\n",
    "\n",
    "arr.clear()\n",
    "print(arr.is_empty()) # Output: True\n"
   ]
  },
  {
   "cell_type": "code",
   "execution_count": null,
   "id": "2e724a24-c548-40f1-9432-2549dd205ca7",
   "metadata": {},
   "outputs": [],
   "source": []
  }
 ],
 "metadata": {
  "kernelspec": {
   "display_name": "py",
   "language": "python",
   "name": "py"
  },
  "language_info": {
   "codemirror_mode": {
    "name": "ipython",
    "version": 3
   },
   "file_extension": ".py",
   "mimetype": "text/x-python",
   "name": "python",
   "nbconvert_exporter": "python",
   "pygments_lexer": "ipython3",
   "version": "3.10.9"
  }
 },
 "nbformat": 4,
 "nbformat_minor": 5
}
