{
 "cells": [
  {
   "cell_type": "code",
   "execution_count": 1,
   "id": "7ca8a86f-01d5-4e2c-9e26-e3f50a296fff",
   "metadata": {
    "tags": []
   },
   "outputs": [
    {
     "name": "stdout",
     "output_type": "stream",
     "text": [
      "The duplicate number is: 10\n"
     ]
    }
   ],
   "source": [
    "def find_duplicate_number(array):\n",
    "    # create an empty set to store seen numbers\n",
    "    seen = set()\n",
    "\n",
    "    # loop through the array\n",
    "    for number in array:\n",
    "        # if the number is already in the set, it is a duplicate\n",
    "        if number in seen:\n",
    "            return number\n",
    "        # otherwise, add the number to the set\n",
    "        else:\n",
    "            seen.add(number)\n",
    "\n",
    "# example usage\n",
    "array = [1, 2, 3, 4, 5, 6, 7, 8, 9, 10, 10, 11, 12, 13, 14, 15]\n",
    "\n",
    "duplicate_number = find_duplicate_number(array)\n",
    "print(\"The duplicate number is:\", duplicate_number)\n"
   ]
  },
  {
   "cell_type": "markdown",
   "id": "78faaddf-4e0e-41aa-a212-c6d278dcc3cd",
   "metadata": {},
   "source": [
    "In this example, we define a function called find_duplicate_number that takes an array of integers as input. We create an empty set called seen to store numbers we have already seen. We loop through the array, and for each number, we check if it is already in the seen set. If it is, we return the number as the duplicate. Otherwise, we add the number to the seen set.\n",
    "\n",
    "We can then call the find_duplicate_number function on a given array of integers (in this example, we use an array with a duplicate number) and store the result in a variable called duplicate_number. Finally, we print the duplicate number using the print() function."
   ]
  },
  {
   "cell_type": "code",
   "execution_count": null,
   "id": "cb189f3b-ec21-4a6b-97fc-d29612150fb1",
   "metadata": {},
   "outputs": [],
   "source": []
  }
 ],
 "metadata": {
  "kernelspec": {
   "display_name": "py",
   "language": "python",
   "name": "py"
  },
  "language_info": {
   "codemirror_mode": {
    "name": "ipython",
    "version": 3
   },
   "file_extension": ".py",
   "mimetype": "text/x-python",
   "name": "python",
   "nbconvert_exporter": "python",
   "pygments_lexer": "ipython3",
   "version": "3.10.9"
  }
 },
 "nbformat": 4,
 "nbformat_minor": 5
}
