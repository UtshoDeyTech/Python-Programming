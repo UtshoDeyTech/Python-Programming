{
 "cells": [
  {
   "cell_type": "code",
   "execution_count": 1,
   "id": "18cd7a42-4aac-4523-bf1e-9b78662ae780",
   "metadata": {
    "tags": []
   },
   "outputs": [
    {
     "name": "stdout",
     "output_type": "stream",
     "text": [
      "The smallest number is: 1\n",
      "The largest number is: 10\n"
     ]
    }
   ],
   "source": [
    "def find_largest_smallest(array):\n",
    "    # initialize the largest and smallest numbers to the first element of the array\n",
    "    largest = array[0]\n",
    "    smallest = array[0]\n",
    "\n",
    "    # loop through the array\n",
    "    for number in array:\n",
    "        # if the number is larger than the current largest number, update the largest number\n",
    "        if number > largest:\n",
    "            largest = number\n",
    "        # if the number is smaller than the current smallest number, update the smallest number\n",
    "        if number < smallest:\n",
    "            smallest = number\n",
    "\n",
    "    return (smallest, largest)\n",
    "\n",
    "# example usage\n",
    "array = [3, 6, 2, 8, 4, 10, 1, 9, 5, 7]\n",
    "\n",
    "smallest_largest = find_largest_smallest(array)\n",
    "print(\"The smallest number is:\", smallest_largest[0])\n",
    "print(\"The largest number is:\", smallest_largest[1])\n"
   ]
  },
  {
   "cell_type": "markdown",
   "id": "c93454ff-d46a-47a3-91b8-dfe8bceb8c68",
   "metadata": {},
   "source": [
    "In this example, we define a function called find_largest_smallest that takes an array of integers as input. We initialize variables called largest and smallest to the first element of the array. We loop through the array, and for each number, we check if it is larger than the current largest number or smaller than the current smallest number. If it is, we update the largest or smallest variable accordingly.\n",
    "\n",
    "We then return a tuple containing the smallest and largest numbers.\n",
    "\n",
    "We can then call the find_largest_smallest function on a given array of integers (in this example, we use an unsorted array) and store the result in a variable called smallest_largest. Finally, we print the smallest and largest numbers using the print() function."
   ]
  },
  {
   "cell_type": "code",
   "execution_count": null,
   "id": "0bbef98e-1a59-4aea-8f5c-3523e8f3d880",
   "metadata": {},
   "outputs": [],
   "source": []
  }
 ],
 "metadata": {
  "kernelspec": {
   "display_name": "py",
   "language": "python",
   "name": "py"
  },
  "language_info": {
   "codemirror_mode": {
    "name": "ipython",
    "version": 3
   },
   "file_extension": ".py",
   "mimetype": "text/x-python",
   "name": "python",
   "nbconvert_exporter": "python",
   "pygments_lexer": "ipython3",
   "version": "3.10.9"
  }
 },
 "nbformat": 4,
 "nbformat_minor": 5
}
