{
 "cells": [
  {
   "cell_type": "code",
   "execution_count": 1,
   "id": "3ee6d58b-d794-475b-a0c6-31090d3d7efb",
   "metadata": {
    "tags": []
   },
   "outputs": [
    {
     "name": "stdout",
     "output_type": "stream",
     "text": [
      "Pairs whose sum is equal to 7 :\n",
      "(1, 6)\n",
      "(2, 5)\n",
      "(3, 4)\n"
     ]
    }
   ],
   "source": [
    "def find_pairs(array, target_sum):\n",
    "    pairs = []\n",
    "    for i in range(len(array)):\n",
    "        for j in range(i + 1, len(array)):\n",
    "            if array[i] + array[j] == target_sum:\n",
    "                pairs.append((array[i], array[j]))\n",
    "    return pairs\n",
    "\n",
    "# example usage\n",
    "array = [1, 2, 3, 4, 5, 6]\n",
    "target_sum = 7\n",
    "\n",
    "pairs = find_pairs(array, target_sum)\n",
    "print(\"Pairs whose sum is equal to\", target_sum, \":\")\n",
    "for pair in pairs:\n",
    "    print(pair)\n"
   ]
  },
  {
   "cell_type": "markdown",
   "id": "1ba97ce6-ccef-4b49-aa5a-fe39c69fecd0",
   "metadata": {},
   "source": [
    "In this example, we define a function called find_pairs that takes an array of integers (array) and a target sum (target_sum) as input. We initialize an empty list called pairs to store the pairs of integers whose sum is equal to the target sum.\n",
    "\n",
    "We then loop through the array using two nested for loops. For each pair of indices i and j, we check if the sum of the elements at those indices is equal to the target sum. If it is, we append the pair of integers to the pairs list.\n",
    "\n",
    "Finally, we return the pairs list containing all the pairs of integers whose sum is equal to the target sum.\n",
    "\n",
    "We can then call the find_pairs function on a given array of integers (in this example, we use [1, 2, 3, 4, 5, 6]) and a target sum (in this example, we use 7) and store the result in a variable called pairs. We then print out each pair of integers in the pairs list using a for loop and the print() function."
   ]
  },
  {
   "cell_type": "code",
   "execution_count": null,
   "id": "e711dee7-84c9-4bc0-a296-5518f947ef89",
   "metadata": {},
   "outputs": [],
   "source": []
  }
 ],
 "metadata": {
  "kernelspec": {
   "display_name": "py",
   "language": "python",
   "name": "py"
  },
  "language_info": {
   "codemirror_mode": {
    "name": "ipython",
    "version": 3
   },
   "file_extension": ".py",
   "mimetype": "text/x-python",
   "name": "python",
   "nbconvert_exporter": "python",
   "pygments_lexer": "ipython3",
   "version": "3.10.9"
  }
 },
 "nbformat": 4,
 "nbformat_minor": 5
}
