{
 "cells": [
  {
   "cell_type": "code",
   "execution_count": 1,
   "id": "b758598b-5c89-4cdc-a1c1-a9abf5de2e79",
   "metadata": {
    "tags": []
   },
   "outputs": [
    {
     "name": "stdout",
     "output_type": "stream",
     "text": [
      "Array with duplicates removed:\n",
      "[1, 2, 3, 4, 5, 6, 7, 8, 9]\n"
     ]
    }
   ],
   "source": [
    "def remove_duplicates(array):\n",
    "    return list(set(array))\n",
    "\n",
    "# example usage\n",
    "array = [1, 2, 3, 4, 2, 5, 3, 4, 6, 7, 8, 7, 9]\n",
    "\n",
    "unique_array = remove_duplicates(array)\n",
    "print(\"Array with duplicates removed:\")\n",
    "print(unique_array)\n"
   ]
  },
  {
   "cell_type": "markdown",
   "id": "82ee9360-6d59-4fe3-89c0-eba917802625",
   "metadata": {},
   "source": [
    "In this example, we define a function called remove_duplicates that takes an array of integers (array) as input. We use the set function to remove duplicates from the array and convert it back to a list using the list function.\n",
    "\n",
    "We then call the remove_duplicates function on a given array of integers (in this example, we use [1, 2, 3, 4, 2, 5, 3, 4, 6, 7, 8, 7, 9]) and store the result in a variable called unique_array. We then print out the unique_array using the print() function."
   ]
  },
  {
   "cell_type": "code",
   "execution_count": null,
   "id": "5d09a39b-ad50-4ede-8eae-964e3714da72",
   "metadata": {},
   "outputs": [],
   "source": []
  }
 ],
 "metadata": {
  "kernelspec": {
   "display_name": "py",
   "language": "python",
   "name": "py"
  },
  "language_info": {
   "codemirror_mode": {
    "name": "ipython",
    "version": 3
   },
   "file_extension": ".py",
   "mimetype": "text/x-python",
   "name": "python",
   "nbconvert_exporter": "python",
   "pygments_lexer": "ipython3",
   "version": "3.10.9"
  }
 },
 "nbformat": 4,
 "nbformat_minor": 5
}
