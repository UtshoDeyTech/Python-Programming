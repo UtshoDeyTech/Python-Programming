{
 "cells": [
  {
   "cell_type": "code",
   "execution_count": 1,
   "id": "0bb36d3b-317d-41f8-98e1-a5c770324873",
   "metadata": {
    "tags": []
   },
   "outputs": [
    {
     "name": "stdout",
     "output_type": "stream",
     "text": [
      "Duplicate numbers in the array:\n",
      "2\n",
      "3\n",
      "4\n",
      "7\n"
     ]
    }
   ],
   "source": [
    "def find_duplicates(array):\n",
    "    duplicates = []\n",
    "    seen = set()\n",
    "    for num in array:\n",
    "        if num in seen:\n",
    "            duplicates.append(num)\n",
    "        else:\n",
    "            seen.add(num)\n",
    "    return duplicates\n",
    "\n",
    "# example usage\n",
    "array = [1, 2, 3, 4, 2, 5, 3, 4, 6, 7, 8, 7, 9]\n",
    "\n",
    "duplicates = find_duplicates(array)\n",
    "print(\"Duplicate numbers in the array:\")\n",
    "for num in duplicates:\n",
    "    print(num)\n"
   ]
  },
  {
   "cell_type": "markdown",
   "id": "2b4e396b-ff46-4f0b-bc45-9c54cd31052e",
   "metadata": {},
   "source": [
    "In this example, we define a function called find_duplicates that takes an array of integers (array) as input. We initialize an empty list called duplicates to store the duplicate numbers that we find, and we initialize an empty set called seen to keep track of the numbers we've seen so far.\n",
    "\n",
    "We then loop through the array and for each number num, we check if num is in the seen set. If it is, we know that num is a duplicate, so we append it to the duplicates list. If num is not in the seen set, we add it to the set.\n",
    "\n",
    "Finally, we return the duplicates list containing all the duplicate numbers in the array.\n",
    "\n",
    "We can then call the find_duplicates function on a given array of integers (in this example, we use [1, 2, 3, 4, 2, 5, 3, 4, 6, 7, 8, 7, 9]) and store the result in a variable called duplicates. We then print out each duplicate number in the duplicates list using a for loop and the print() function."
   ]
  },
  {
   "cell_type": "code",
   "execution_count": null,
   "id": "26244d9f-64d7-43cd-a882-75d6f98bb8e5",
   "metadata": {},
   "outputs": [],
   "source": []
  }
 ],
 "metadata": {
  "kernelspec": {
   "display_name": "py",
   "language": "python",
   "name": "py"
  },
  "language_info": {
   "codemirror_mode": {
    "name": "ipython",
    "version": 3
   },
   "file_extension": ".py",
   "mimetype": "text/x-python",
   "name": "python",
   "nbconvert_exporter": "python",
   "pygments_lexer": "ipython3",
   "version": "3.10.9"
  }
 },
 "nbformat": 4,
 "nbformat_minor": 5
}
