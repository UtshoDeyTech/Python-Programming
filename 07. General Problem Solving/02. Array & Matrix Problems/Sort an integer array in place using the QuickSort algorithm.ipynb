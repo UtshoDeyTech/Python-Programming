{
 "cells": [
  {
   "cell_type": "code",
   "execution_count": 1,
   "id": "5734de47-dc26-486d-9da8-053d6674c971",
   "metadata": {
    "tags": []
   },
   "outputs": [],
   "source": [
    "def quicksort(arr, low, high):\n",
    "    if low < high:\n",
    "        pivot = partition(arr, low, high)\n",
    "        quicksort(arr, low, pivot - 1)\n",
    "        quicksort(arr, pivot + 1, high)\n",
    "\n",
    "def partition(arr, low, high):\n",
    "    pivot = arr[high]\n",
    "    i = low - 1\n",
    "    for j in range(low, high):\n",
    "        if arr[j] < pivot:\n",
    "            i += 1\n",
    "            arr[i], arr[j] = arr[j], arr[i]\n",
    "    arr[i + 1], arr[high] = arr[high], arr[i + 1]\n",
    "    return i + 1\n"
   ]
  },
  {
   "cell_type": "markdown",
   "id": "65cd88d9-d3a5-4f1d-bf2e-ae905ac1129d",
   "metadata": {},
   "source": [
    "To use this function to sort an array, you can call quicksort(arr, 0, len(arr) - 1), where arr is the array you want to sort.\n",
    "\n",
    "The quicksort function takes three arguments: the array arr, the lowest index low, and the highest index high. It uses the partition function to divide the array into two subarrays, then recursively calls itself on each subarray until the array is sorted.\n",
    "\n",
    "The partition function takes three arguments: the array arr, the lowest index low, and the highest index high. It selects the pivot element (in this case, the last element of the array), then rearranges the elements of the array so that all elements less than the pivot are to the left of it and all elements greater than the pivot are to the right of it. It then returns the index of the pivot element."
   ]
  },
  {
   "cell_type": "code",
   "execution_count": null,
   "id": "a653b983-d533-409f-aa13-f013bcc13e83",
   "metadata": {},
   "outputs": [],
   "source": []
  }
 ],
 "metadata": {
  "kernelspec": {
   "display_name": "py",
   "language": "python",
   "name": "py"
  },
  "language_info": {
   "codemirror_mode": {
    "name": "ipython",
    "version": 3
   },
   "file_extension": ".py",
   "mimetype": "text/x-python",
   "name": "python",
   "nbconvert_exporter": "python",
   "pygments_lexer": "ipython3",
   "version": "3.10.9"
  }
 },
 "nbformat": 4,
 "nbformat_minor": 5
}
