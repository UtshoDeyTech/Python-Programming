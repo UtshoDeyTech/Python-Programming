{
 "cells": [
  {
   "cell_type": "code",
   "execution_count": 1,
   "id": "157e00d7-ada4-4c21-b6fb-be4f82dff0d7",
   "metadata": {
    "tags": []
   },
   "outputs": [
    {
     "name": "stdout",
     "output_type": "stream",
     "text": [
      "The missing number is: 0\n"
     ]
    }
   ],
   "source": [
    "def find_missing_number(array):\n",
    "    # calculate the sum of integers from 1 to 100\n",
    "    expected_sum = sum(range(1, 101))\n",
    "\n",
    "    # calculate the actual sum of the array\n",
    "    actual_sum = sum(array)\n",
    "\n",
    "    # the missing number is the difference between the expected and actual sum\n",
    "    missing_number = expected_sum - actual_sum\n",
    "\n",
    "    return missing_number\n",
    "\n",
    "# example usage\n",
    "array = [1, 2, 3, 4, 5, 6, 7, 8, 9, 10, 11, 12, 13, 14, 15, 16, 17, 18, 19, 20,\n",
    "         21, 22, 23, 24, 25, 26, 27, 28, 29, 30, 31, 32, 33, 34, 35, 36, 37, 38, 39, 40,\n",
    "         41, 42, 43, 44, 45, 46, 47, 48, 49, 50, 51, 52, 53, 54, 55, 56, 57, 58, 59, 60,\n",
    "         61, 62, 63, 64, 65, 66, 67, 68, 69, 70, 71, 72, 73, 74, 75, 76, 77, 78, 79, 80,\n",
    "         81, 82, 83, 84, 85, 86, 87, 88, 89, 90, 91, 92, 93, 94, 95, 96, 97, 98, 99, 100]\n",
    "\n",
    "missing_number = find_missing_number(array)\n",
    "print(\"The missing number is:\", missing_number)\n"
   ]
  },
  {
   "cell_type": "markdown",
   "id": "6c511745-2aeb-4ab2-90ea-69cbac618d24",
   "metadata": {},
   "source": [
    "In this example, we define a function called find_missing_number that takes an array of integers as input. We first calculate the expected sum of integers from 1 to 100 using the sum() function and the range() function. We then calculate the actual sum of the array using the sum() function. The missing number is the difference between the expected and actual sum.\n",
    "\n",
    "We can then call the find_missing_number function on a given array of integers (in this example, we use an array of integers from 1 to 100) and store the result in a variable called missing_number. Finally, we print the missing number using the print() function."
   ]
  },
  {
   "cell_type": "code",
   "execution_count": null,
   "id": "cc7ed9d1-9fc8-43d6-8715-ebb53169d565",
   "metadata": {},
   "outputs": [],
   "source": []
  }
 ],
 "metadata": {
  "kernelspec": {
   "display_name": "py",
   "language": "python",
   "name": "py"
  },
  "language_info": {
   "codemirror_mode": {
    "name": "ipython",
    "version": 3
   },
   "file_extension": ".py",
   "mimetype": "text/x-python",
   "name": "python",
   "nbconvert_exporter": "python",
   "pygments_lexer": "ipython3",
   "version": "3.10.9"
  }
 },
 "nbformat": 4,
 "nbformat_minor": 5
}
