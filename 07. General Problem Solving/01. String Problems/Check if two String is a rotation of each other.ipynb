{
 "cells": [
  {
   "cell_type": "code",
   "execution_count": 1,
   "id": "99304c7a-6a82-4bba-9af5-7cd3c3cd0dc1",
   "metadata": {
    "tags": []
   },
   "outputs": [
    {
     "name": "stdout",
     "output_type": "stream",
     "text": [
      "orldhello w is a rotation of hello world\n"
     ]
    }
   ],
   "source": [
    "def is_rotation(str1, str2):\n",
    "    # check if the strings are of equal length and non-empty\n",
    "    if len(str1) != len(str2) or len(str1) == 0:\n",
    "        return False\n",
    "\n",
    "    # check if str2 is a substring of str1 concatenated with str1\n",
    "    if str2 in str1 + str1:\n",
    "        return True\n",
    "\n",
    "    return False\n",
    "\n",
    "# example usage\n",
    "str1 = \"hello world\"\n",
    "str2 = \"orldhello w\"\n",
    "if is_rotation(str1, str2):\n",
    "    print(str2, \"is a rotation of\", str1)\n",
    "else:\n",
    "    print(str2, \"is not a rotation of\", str1)\n"
   ]
  },
  {
   "cell_type": "markdown",
   "id": "09c5c39e-ccdf-405d-bd1c-f8adb2e8d211",
   "metadata": {},
   "source": [
    "In this example, we define a function called is_rotation that takes two strings as input: str1 and str2. The function first checks if the strings are of equal length and non-empty. If they are not, it immediately returns False.\n",
    "\n",
    "If the strings are of equal length and non-empty, the function checks if str2 is a substring of str1 concatenated with str1 (i.e., if str2 is a rotation of str1). If it is, the function returns True. Otherwise, it returns False.\n",
    "\n",
    "We can then call the is_rotation function on two given strings (in this example, we use str1 = \"hello world\" and str2 = \"orldhello w\") and store the result in a variable called is_rot. Finally, we print whether or not the two strings are a rotation of each other using the print() function."
   ]
  },
  {
   "cell_type": "code",
   "execution_count": null,
   "id": "11fc9c4b-0758-4645-aa6d-a6bf5b5ade4c",
   "metadata": {},
   "outputs": [],
   "source": []
  }
 ],
 "metadata": {
  "kernelspec": {
   "display_name": "py",
   "language": "python",
   "name": "py"
  },
  "language_info": {
   "codemirror_mode": {
    "name": "ipython",
    "version": 3
   },
   "file_extension": ".py",
   "mimetype": "text/x-python",
   "name": "python",
   "nbconvert_exporter": "python",
   "pygments_lexer": "ipython3",
   "version": "3.10.9"
  }
 },
 "nbformat": 4,
 "nbformat_minor": 5
}
