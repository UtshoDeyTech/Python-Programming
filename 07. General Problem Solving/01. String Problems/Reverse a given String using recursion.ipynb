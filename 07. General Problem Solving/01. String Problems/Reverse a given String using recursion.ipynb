{
 "cells": [
  {
   "cell_type": "code",
   "execution_count": 1,
   "id": "7dea336b-6ac1-4154-9a35-7ed76b91955a",
   "metadata": {
    "tags": []
   },
   "outputs": [
    {
     "name": "stdout",
     "output_type": "stream",
     "text": [
      "Original string: hello world\n",
      "Reversed string: dlrow olleh\n"
     ]
    }
   ],
   "source": [
    "def reverse_string(string):\n",
    "    # base case\n",
    "    if len(string) == 0:\n",
    "        return string\n",
    "\n",
    "    # recursive case\n",
    "    else:\n",
    "        return reverse_string(string[1:]) + string[0]\n",
    "\n",
    "# example usage\n",
    "string = \"hello world\"\n",
    "reversed_string = reverse_string(string)\n",
    "print(\"Original string:\", string)\n",
    "print(\"Reversed string:\", reversed_string)\n"
   ]
  },
  {
   "cell_type": "markdown",
   "id": "293ccf21-de40-40be-b92a-e8aa0bc7de9e",
   "metadata": {},
   "source": [
    "In this example, we define a function called reverse_string that takes a string as input. The function uses recursion to reverse the order of the characters in the string.\n",
    "\n",
    "The base case of the recursion is when the length of the string is 0 (i.e., the string is empty). In this case, the function simply returns the empty string.\n",
    "\n",
    "The recursive case of the recursion involves calling the reverse_string function on a slice of the original string that excludes the first character (i.e., string[1:]) and then concatenating the first character of the original string (i.e., string[0]) to the end of the recursively reversed string.\n",
    "\n",
    "We can then call the reverse_string function on a given string (in this example, we use the string \"hello world\") and store the result in a variable called reversed_string. Finally, we print both the original string and the reversed string to the console using the print() function."
   ]
  },
  {
   "cell_type": "code",
   "execution_count": null,
   "id": "0875bfa0-3f8e-4f2f-a028-7e7515c48a1e",
   "metadata": {},
   "outputs": [],
   "source": []
  }
 ],
 "metadata": {
  "kernelspec": {
   "display_name": "py",
   "language": "python",
   "name": "py"
  },
  "language_info": {
   "codemirror_mode": {
    "name": "ipython",
    "version": 3
   },
   "file_extension": ".py",
   "mimetype": "text/x-python",
   "name": "python",
   "nbconvert_exporter": "python",
   "pygments_lexer": "ipython3",
   "version": "3.10.9"
  }
 },
 "nbformat": 4,
 "nbformat_minor": 5
}
