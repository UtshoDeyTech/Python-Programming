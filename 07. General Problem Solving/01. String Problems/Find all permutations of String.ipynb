{
 "cells": [
  {
   "cell_type": "code",
   "execution_count": 1,
   "id": "fe43f27d-7bf5-4a6b-9abb-c882e1a66a59",
   "metadata": {
    "tags": []
   },
   "outputs": [
    {
     "name": "stdout",
     "output_type": "stream",
     "text": [
      "Permutations of abc: ['abc', 'acb', 'bac', 'bca', 'cab', 'cba']\n"
     ]
    }
   ],
   "source": [
    "def permutations(string):\n",
    "    # base case\n",
    "    if len(string) == 0:\n",
    "        return []\n",
    "\n",
    "    # recursive case\n",
    "    if len(string) == 1:\n",
    "        return [string]\n",
    "\n",
    "    # list to hold permutations\n",
    "    perms = []\n",
    "\n",
    "    # loop through each character in the string\n",
    "    for i in range(len(string)):\n",
    "        # get the ith character\n",
    "        char = string[i]\n",
    "\n",
    "        # get all permutations of the string excluding the ith character\n",
    "        remaining_string = string[:i] + string[i+1:]\n",
    "        remaining_perms = permutations(remaining_string)\n",
    "\n",
    "        # add the ith character to the beginning of each remaining permutation\n",
    "        for perm in remaining_perms:\n",
    "            perms.append(char + perm)\n",
    "\n",
    "    return perms\n",
    "\n",
    "# example usage\n",
    "string = \"abc\"\n",
    "perms = permutations(string)\n",
    "print(\"Permutations of\", string + \":\", perms)\n"
   ]
  },
  {
   "cell_type": "markdown",
   "id": "2e2e1f62-f8e2-4fd9-b492-bf0782bd1586",
   "metadata": {},
   "source": [
    "In this example, we define a function called permutations that takes a string as input. The function uses recursion to generate all possible permutations of the string.\n",
    "\n",
    "The base case of the recursion is when the length of the string is 0, in which case the function simply returns an empty list. The other base case is when the length of the string is 1, in which case the function returns a list containing the string itself.\n",
    "\n",
    "The recursive case of the recursion involves looping through each character in the string, getting all permutations of the string excluding the current character, and then adding the current character to the beginning of each of those permutations.\n",
    "\n",
    "The function uses a list called perms to store all the permutations it generates, and returns this list at the end.\n",
    "\n",
    "We can then call the permutations function on a given string (in this example, we use the string \"abc\") and store the result in a variable called perms. Finally, we print the list of permutations to the console using the print() function."
   ]
  },
  {
   "cell_type": "code",
   "execution_count": null,
   "id": "80894097-5a8a-4fd7-8d03-806225dfea8d",
   "metadata": {},
   "outputs": [],
   "source": []
  }
 ],
 "metadata": {
  "kernelspec": {
   "display_name": "py",
   "language": "python",
   "name": "py"
  },
  "language_info": {
   "codemirror_mode": {
    "name": "ipython",
    "version": 3
   },
   "file_extension": ".py",
   "mimetype": "text/x-python",
   "name": "python",
   "nbconvert_exporter": "python",
   "pygments_lexer": "ipython3",
   "version": "3.10.9"
  }
 },
 "nbformat": 4,
 "nbformat_minor": 5
}
