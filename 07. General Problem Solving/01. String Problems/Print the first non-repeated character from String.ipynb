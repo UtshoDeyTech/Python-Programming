{
 "cells": [
  {
   "cell_type": "code",
   "execution_count": 1,
   "id": "4df9b6b5-32d9-4fd7-9c04-4e95d36ae60d",
   "metadata": {
    "tags": []
   },
   "outputs": [
    {
     "name": "stdout",
     "output_type": "stream",
     "text": [
      "First non-repeated character: h\n"
     ]
    }
   ],
   "source": [
    "string = \"hello world\"\n",
    "non_repeated = \"\"\n",
    "\n",
    "# loop through each character in the string\n",
    "for char in string:\n",
    "\n",
    "    # check if the character appears only once\n",
    "    if string.count(char) == 1:\n",
    "        non_repeated = char\n",
    "        break\n",
    "\n",
    "# print the first non-repeated character\n",
    "print(\"First non-repeated character:\", non_repeated)\n"
   ]
  },
  {
   "cell_type": "markdown",
   "id": "e87da905-0410-4202-952b-d8ef7b911431",
   "metadata": {},
   "source": [
    "In this example, we first define a string called string that contains the text \"hello world\". We then create an empty string called non_repeated to store the first non-repeated character.\n",
    "\n",
    "Next, we loop through each character in the string using a for loop. For each character, we use the count() method to count the number of times it appears in the string. If the count is equal to 1 (indicating that the character appears only once), we assign it to the non_repeated variable and break out of the loop."
   ]
  },
  {
   "cell_type": "code",
   "execution_count": null,
   "id": "4de7cd7b-8403-41a3-a183-146077e8b762",
   "metadata": {},
   "outputs": [],
   "source": []
  }
 ],
 "metadata": {
  "kernelspec": {
   "display_name": "py",
   "language": "python",
   "name": "py"
  },
  "language_info": {
   "codemirror_mode": {
    "name": "ipython",
    "version": 3
   },
   "file_extension": ".py",
   "mimetype": "text/x-python",
   "name": "python",
   "nbconvert_exporter": "python",
   "pygments_lexer": "ipython3",
   "version": "3.10.9"
  }
 },
 "nbformat": 4,
 "nbformat_minor": 5
}
