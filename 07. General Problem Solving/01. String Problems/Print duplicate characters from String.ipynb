{
 "cells": [
  {
   "cell_type": "code",
   "execution_count": 1,
   "id": "8ca146bb-0f43-4705-b035-212ed1a6b441",
   "metadata": {
    "tags": []
   },
   "outputs": [
    {
     "name": "stdout",
     "output_type": "stream",
     "text": [
      "Duplicate characters: ['l', 'o']\n"
     ]
    }
   ],
   "source": [
    "string = \"hello world\"\n",
    "duplicates = []\n",
    "\n",
    "# loop through each character in the string\n",
    "for char in string:\n",
    "\n",
    "    # check if the character appears more than once\n",
    "    if string.count(char) > 1 and char not in duplicates:\n",
    "        duplicates.append(char)\n",
    "\n",
    "# print the duplicate characters\n",
    "print(\"Duplicate characters:\", duplicates)"
   ]
  },
  {
   "cell_type": "markdown",
   "id": "d797de57-fd6e-4698-a710-28449ef30697",
   "metadata": {},
   "source": [
    "In this example, we first define a string called string that contains the text \"hello world\". We then create an empty list called duplicates to store the duplicate characters.\n",
    "\n",
    "Next, we loop through each character in the string using a for loop. For each character, we use the count() method to count the number of times it appears in the string. If the count is greater than 1 (indicating that the character appears more than once) and the character has not already been added to the duplicates list, we append it to the list."
   ]
  },
  {
   "cell_type": "code",
   "execution_count": null,
   "id": "7c6a28e5-d96a-487f-b3b3-9dafb887893a",
   "metadata": {},
   "outputs": [],
   "source": []
  }
 ],
 "metadata": {
  "kernelspec": {
   "display_name": "py",
   "language": "python",
   "name": "py"
  },
  "language_info": {
   "codemirror_mode": {
    "name": "ipython",
    "version": 3
   },
   "file_extension": ".py",
   "mimetype": "text/x-python",
   "name": "python",
   "nbconvert_exporter": "python",
   "pygments_lexer": "ipython3",
   "version": "3.10.9"
  }
 },
 "nbformat": 4,
 "nbformat_minor": 5
}
