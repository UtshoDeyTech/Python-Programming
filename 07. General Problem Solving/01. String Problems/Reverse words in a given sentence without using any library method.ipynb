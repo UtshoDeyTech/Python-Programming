{
 "cells": [
  {
   "cell_type": "code",
   "execution_count": 1,
   "id": "e912cdeb-aeb7-45f1-b1f8-2ea4c5251d52",
   "metadata": {
    "tags": []
   },
   "outputs": [
    {
     "name": "stdout",
     "output_type": "stream",
     "text": [
      "Original sentence: The quick brown fox jumps over the lazy dog\n",
      "Reversed sentence: dog lazy the over jumps fox brown quick The\n"
     ]
    }
   ],
   "source": [
    "def reverse_sentence(sentence):\n",
    "    # split the sentence into a list of words\n",
    "    words = sentence.split()\n",
    "\n",
    "    # reverse the order of the words\n",
    "    words = words[::-1]\n",
    "\n",
    "    # join the words back into a sentence\n",
    "    reversed_sentence = \" \".join(words)\n",
    "\n",
    "    return reversed_sentence\n",
    "\n",
    "# example usage\n",
    "sentence = \"The quick brown fox jumps over the lazy dog\"\n",
    "reversed_sentence = reverse_sentence(sentence)\n",
    "print(\"Original sentence:\", sentence)\n",
    "print(\"Reversed sentence:\", reversed_sentence)\n"
   ]
  },
  {
   "cell_type": "markdown",
   "id": "95588aca-8e50-4a17-af96-eca5619d84bc",
   "metadata": {},
   "source": [
    "In this example, we define a function called reverse_sentence that takes a sentence as input. The function first splits the sentence into a list of words using the split() method. We then use the [::-1] slicing notation to reverse the order of the words in the list.\n",
    "\n",
    "Finally, we join the words back together into a single string using the join() method with a space as the separator. We then return the reversed sentence.\n",
    "\n",
    "We can then call the reverse_sentence function on a given sentence (in this example, we use the sentence \"The quick brown fox jumps over the lazy dog\") and store the result in a variable called reversed_sentence. Finally, we print both the original and reversed sentences to the console using the print() function."
   ]
  },
  {
   "cell_type": "code",
   "execution_count": null,
   "id": "1f7038ff-a34f-4685-82db-a1b510d44d2b",
   "metadata": {},
   "outputs": [],
   "source": []
  }
 ],
 "metadata": {
  "kernelspec": {
   "display_name": "py",
   "language": "python",
   "name": "py"
  },
  "language_info": {
   "codemirror_mode": {
    "name": "ipython",
    "version": 3
   },
   "file_extension": ".py",
   "mimetype": "text/x-python",
   "name": "python",
   "nbconvert_exporter": "python",
   "pygments_lexer": "ipython3",
   "version": "3.10.9"
  }
 },
 "nbformat": 4,
 "nbformat_minor": 5
}
