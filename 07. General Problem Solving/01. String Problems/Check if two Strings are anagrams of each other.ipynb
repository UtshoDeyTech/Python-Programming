{
 "cells": [
  {
   "cell_type": "code",
   "execution_count": 1,
   "id": "834954c3-79e5-499d-b697-55a5e78c8192",
   "metadata": {
    "tags": []
   },
   "outputs": [
    {
     "name": "stdout",
     "output_type": "stream",
     "text": [
      "The strings are anagrams.\n"
     ]
    }
   ],
   "source": [
    "string1 = \"listen\"\n",
    "string2 = \"silent\"\n",
    "\n",
    "# convert the strings to lowercase and remove whitespace\n",
    "string1 = string1.lower().replace(\" \", \"\")\n",
    "string2 = string2.lower().replace(\" \", \"\")\n",
    "\n",
    "# check if the strings are the same length\n",
    "if len(string1) != len(string2):\n",
    "    print(\"The strings are not anagrams.\")\n",
    "else:\n",
    "    # sort the characters in each string\n",
    "    sorted_string1 = sorted(string1)\n",
    "    sorted_string2 = sorted(string2)\n",
    "\n",
    "    # compare the sorted strings\n",
    "    if sorted_string1 == sorted_string2:\n",
    "        print(\"The strings are anagrams.\")\n",
    "    else:\n",
    "        print(\"The strings are not anagrams.\")\n"
   ]
  },
  {
   "cell_type": "markdown",
   "id": "af467877-d3ec-4e9b-8e50-4750ddaa575b",
   "metadata": {},
   "source": [
    "In this example, we first define two strings called string1 and string2 that we want to check for anagrams. We then convert both strings to lowercase and remove any whitespace using the lower() method and the replace() method.\n",
    "\n",
    "Next, we check if the two strings are the same length using an if statement. If they are not the same length, we know they cannot be anagrams and we print a message to the console. If they are the same length, we proceed to compare the two strings.\n",
    "\n",
    "To compare the strings, we first sort the characters in each string using the sorted() function. We then compare the two sorted strings using another if statement. If the sorted strings are the same, we know that the original strings contain the same characters and are therefore anagrams. If the sorted strings are not the same, we know that the original strings are not anagrams."
   ]
  },
  {
   "cell_type": "code",
   "execution_count": null,
   "id": "8e54d3b4-45f1-48ca-9efb-d0c0210a5238",
   "metadata": {},
   "outputs": [],
   "source": []
  }
 ],
 "metadata": {
  "kernelspec": {
   "display_name": "py",
   "language": "python",
   "name": "py"
  },
  "language_info": {
   "codemirror_mode": {
    "name": "ipython",
    "version": 3
   },
   "file_extension": ".py",
   "mimetype": "text/x-python",
   "name": "python",
   "nbconvert_exporter": "python",
   "pygments_lexer": "ipython3",
   "version": "3.10.9"
  }
 },
 "nbformat": 4,
 "nbformat_minor": 5
}
