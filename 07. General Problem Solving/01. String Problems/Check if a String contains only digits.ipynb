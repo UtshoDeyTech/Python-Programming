{
 "cells": [
  {
   "cell_type": "code",
   "execution_count": 1,
   "id": "c780b448-b2e0-4a0a-b8ed-55909e5281db",
   "metadata": {
    "tags": []
   },
   "outputs": [
    {
     "name": "stdout",
     "output_type": "stream",
     "text": [
      "String contains only digits\n"
     ]
    }
   ],
   "source": [
    "string = \"12345\"\n",
    "\n",
    "if string.isdigit():\n",
    "    print(\"String contains only digits\")\n",
    "else:\n",
    "    print(\"String contains non-digit characters\")\n"
   ]
  },
  {
   "cell_type": "markdown",
   "id": "43786273-7f59-4b05-85bc-86fd11b16dd4",
   "metadata": {},
   "source": [
    "In this example, we first define a string called string that contains only digits (i.e., the text \"12345\").\n",
    "\n",
    "We then use the isdigit() method to check if the string contains only digits. This method returns True if all the characters in the string are digits, and False otherwise.\n",
    "\n",
    "Finally, we use an if-else statement to print a message indicating whether the string contains only digits or not. In this case, since the string contains only digits"
   ]
  },
  {
   "cell_type": "code",
   "execution_count": null,
   "id": "a44d7763-a1e6-42e5-9e16-c5c22062ecae",
   "metadata": {},
   "outputs": [],
   "source": []
  }
 ],
 "metadata": {
  "kernelspec": {
   "display_name": "py",
   "language": "python",
   "name": "py"
  },
  "language_info": {
   "codemirror_mode": {
    "name": "ipython",
    "version": 3
   },
   "file_extension": ".py",
   "mimetype": "text/x-python",
   "name": "python",
   "nbconvert_exporter": "python",
   "pygments_lexer": "ipython3",
   "version": "3.10.9"
  }
 },
 "nbformat": 4,
 "nbformat_minor": 5
}
