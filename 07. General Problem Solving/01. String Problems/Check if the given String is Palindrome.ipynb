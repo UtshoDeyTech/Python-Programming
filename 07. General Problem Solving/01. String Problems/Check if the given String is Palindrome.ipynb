{
 "cells": [
  {
   "cell_type": "code",
   "execution_count": 1,
   "id": "7c476008-1267-4945-85a2-bf51b231e46c",
   "metadata": {
    "tags": []
   },
   "outputs": [
    {
     "name": "stdout",
     "output_type": "stream",
     "text": [
      "A man a plan a canal Panama is a palindrome\n"
     ]
    }
   ],
   "source": [
    "def is_palindrome(string):\n",
    "    # convert string to lowercase and remove whitespace\n",
    "    string = string.lower().replace(\" \", \"\")\n",
    "\n",
    "    # reverse the string\n",
    "    reversed_string = string[::-1]\n",
    "\n",
    "    # compare the original string with the reversed string\n",
    "    if string == reversed_string:\n",
    "        return True\n",
    "\n",
    "    return False\n",
    "\n",
    "# example usage\n",
    "string = \"A man a plan a canal Panama\"\n",
    "if is_palindrome(string):\n",
    "    print(string, \"is a palindrome\")\n",
    "else:\n",
    "    print(string, \"is not a palindrome\")\n"
   ]
  },
  {
   "cell_type": "markdown",
   "id": "b5232546-a53c-4e62-a9d4-469e3f634f94",
   "metadata": {},
   "source": [
    "In this example, we define a function called is_palindrome that takes a string as input. The function first converts the string to lowercase using the lower() method and removes any whitespace using the replace() method.\n",
    "\n",
    "We then reverse the string using the [::-1] slicing notation, which returns a copy of the string in reverse order. Finally, we compare the original string with the reversed string. If they are equal, the function returns True, indicating that the string is a palindrome. Otherwise, the function returns False.\n",
    "\n",
    "We can then call the is_palindrome function on a given string (in this example, we use the string \"A man a plan a canal Panama\") and store the result in a variable called is_pal. Finally, we print whether or not the string is a palindrome using the print() function."
   ]
  },
  {
   "cell_type": "code",
   "execution_count": null,
   "id": "dfa644d8-709b-4e27-a562-d647f3b69dc3",
   "metadata": {},
   "outputs": [],
   "source": []
  }
 ],
 "metadata": {
  "kernelspec": {
   "display_name": "py",
   "language": "python",
   "name": "py"
  },
  "language_info": {
   "codemirror_mode": {
    "name": "ipython",
    "version": 3
   },
   "file_extension": ".py",
   "mimetype": "text/x-python",
   "name": "python",
   "nbconvert_exporter": "python",
   "pygments_lexer": "ipython3",
   "version": "3.10.9"
  }
 },
 "nbformat": 4,
 "nbformat_minor": 5
}
